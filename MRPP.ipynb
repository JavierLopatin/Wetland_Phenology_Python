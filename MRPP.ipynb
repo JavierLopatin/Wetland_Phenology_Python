{
 "cells": [
  {
   "cell_type": "markdown",
   "metadata": {},
   "source": [
    "# Multi Resolution Permutation Procesure (MRPP)\n",
    "\n",
    "The MRPP is a multivariate non-parametric test of whether there is a significant difference between groups within each individual variable. The MRPP provides change-corrected group agreement (A) and significance (P) values. Similar to the coefficient of determination, A ranges from 0 to 1, showing the level of discrimination between groups. Accordingly, a hypothetical A value of 1 implies that an indicator thoroughly explains the variance between clases. In contrast, an A value of 0 implies that the indicator does not explain the clases."
   ]
  },
  {
   "cell_type": "code",
   "execution_count": 1,
   "metadata": {
    "tags": []
   },
   "outputs": [
    {
     "name": "stderr",
     "output_type": "stream",
     "text": [
      "Loading required package: permute\n",
      "\n",
      "Loading required package: lattice\n",
      "\n",
      "This is vegan 2.5-7\n",
      "\n"
     ]
    }
   ],
   "source": [
    "library(vegan)"
   ]
  },
  {
   "cell_type": "code",
   "execution_count": 24,
   "metadata": {},
   "outputs": [],
   "source": [
    "setwd('/home/javierlopatin/Documentos/temp/Siusun')"
   ]
  },
  {
   "cell_type": "code",
   "execution_count": 4,
   "metadata": {},
   "outputs": [],
   "source": [
    "rmse = read.csv('points_rmse.csv', header = T)\n",
    "# pheno = read.csv('TSS_phen_all.csv', header = T)\n",
    "lsp = read.csv('points_LSP.csv', header = T)\n",
    "clusters = read.csv('cluster_phen_all.csv')\n",
    "dem = read.csv('points_dem.csv')\n",
    "tpi = read.csv('TPI.csv')"
   ]
  },
  {
   "cell_type": "code",
   "execution_count": 5,
   "metadata": {},
   "outputs": [
    {
     "name": "stdout",
     "output_type": "stream",
     "text": [
      "'data.frame':\t2572 obs. of  24 variables:\n",
      " $ vegclass: Factor w/ 16 levels \"Annual Grasses and Forbs\",..: 13 13 13 13 13 13 13 13 13 13 ...\n",
      " $ clusters: Factor w/ 5 levels \"0\",\"1\",\"2\",\"3\",..: 4 4 4 2 1 4 4 4 4 4 ...\n",
      " $ rmse_all: num  7.85 7.55 7.19 8.99 14.38 ...\n",
      " $ rmse_sos: num  32.6 29 32.6 20.5 30.2 ...\n",
      " $ rmse_pos: num  3.9 2.01 2.46 3.88 7.61 ...\n",
      " $ rmse_eos: num  47.74 20.06 5.11 16.89 72.88 ...\n",
      " $ SOS     : num  80.9 89 78.6 89.1 81 ...\n",
      " $ POS     : num  177 173 153 167 158 ...\n",
      " $ EOS     : num  325 318 245 258 331 ...\n",
      " $ vSOS    : num  1203 1849 1691 793 1130 ...\n",
      " $ vPOS    : num  7504 8524 8562 4373 3884 ...\n",
      " $ vEOS    : num  1470 1457 4588 1514 1492 ...\n",
      " $ LOS     : num  244 229 166 169 250 ...\n",
      " $ MSP     : num  127 127 113 124 120 ...\n",
      " $ MAU     : num  249 242 199 210 241 ...\n",
      " $ vMSP    : num  5334 6093 4984 2364 2272 ...\n",
      " $ vMAU    : num  2841 3466 7211 2936 3070 ...\n",
      " $ AOS     : num  6800 7333 7409 4088 2934 ...\n",
      " $ IOS     : num  1025750 1126375 985631 464582 650494 ...\n",
      " $ ROG     : num  65.6 79.5 93.5 46.2 35.8 ...\n",
      " $ ROS     : num  -40.9 -48.7 -43.9 -30.4 -13.8 ...\n",
      " $ SW      : num  0.253 0.181 -0.682 -0.159 -0.402 ...\n",
      " $ dem     : num  1824 2054 2187 1661 -197 ...\n",
      " $ tpi     : num  213 -1.64 34.79 -38.19 -43.28 ...\n",
      " - attr(*, \"na.action\")= 'omit' Named int  5 23 27 30 33 34 35 48 49 52 ...\n",
      "  ..- attr(*, \"names\")= chr  \"5\" \"23\" \"27\" \"30\" ...\n"
     ]
    }
   ],
   "source": [
    "# all = cbind(clusters, pheno[,2:ncol(pheno)], rmse[,2:ncol(rmse)], lsp[,2:ncol(lsp)], dem$DEM, tpi[,2])\n",
    "all = cbind(clusters, rmse[,2:ncol(rmse)], lsp[,2:ncol(lsp)], dem$DEM, tpi[,2])\n",
    "all = na.omit(all)\n",
    "# colnames(all) =c( \"vegclass\", \"clusters\", colnames(pheno)[2:ncol(pheno)], \"rmse_all\", \"rmse_sos\", \"rmse_pos\", \"rmse_eos\",\n",
    "#                   'SOS', 'POS', 'EOS', 'vSOS', 'vPOS', 'vEOS', 'LOS', 'MSP', 'MAU', 'vMSP', 'vMAU', 'AOS', 'IOS', 'ROG', 'ROS', 'SW', \"dem\", \"tpi\") \n",
    "colnames(all) =c( \"vegclass\", \"clusters\", \"rmse_all\", \"rmse_sos\", \"rmse_pos\", \"rmse_eos\",\n",
    "                  'SOS', 'POS', 'EOS', 'vSOS', 'vPOS', 'vEOS', 'LOS', 'MSP', 'MAU', 'vMSP', 'vMAU', 'AOS', 'IOS', 'ROG', 'ROS', 'SW', \"dem\", \"tpi\") \n",
    "\n",
    "all = na.omit(all)\n",
    "\n",
    "all$clusters = as.factor(all$clusters)\n",
    "\n",
    "str(all)"
   ]
  },
  {
   "cell_type": "code",
   "execution_count": 14,
   "metadata": {},
   "outputs": [
    {
     "data": {
      "text/html": [
       "<table>\n",
       "<caption>A data.frame: 6 × 24</caption>\n",
       "<thead>\n",
       "\t<tr><th></th><th scope=col>vegclass</th><th scope=col>clusters</th><th scope=col>rmse_all</th><th scope=col>rmse_sos</th><th scope=col>rmse_pos</th><th scope=col>rmse_eos</th><th scope=col>SOS</th><th scope=col>POS</th><th scope=col>EOS</th><th scope=col>vSOS</th><th scope=col>⋯</th><th scope=col>MAU</th><th scope=col>vMSP</th><th scope=col>vMAU</th><th scope=col>AOS</th><th scope=col>IOS</th><th scope=col>ROG</th><th scope=col>ROS</th><th scope=col>SW</th><th scope=col>dem</th><th scope=col>tpi</th></tr>\n",
       "\t<tr><th></th><th scope=col>&lt;fct&gt;</th><th scope=col>&lt;fct&gt;</th><th scope=col>&lt;dbl&gt;</th><th scope=col>&lt;dbl&gt;</th><th scope=col>&lt;dbl&gt;</th><th scope=col>&lt;dbl&gt;</th><th scope=col>&lt;dbl&gt;</th><th scope=col>&lt;dbl&gt;</th><th scope=col>&lt;dbl&gt;</th><th scope=col>&lt;dbl&gt;</th><th scope=col>⋯</th><th scope=col>&lt;dbl&gt;</th><th scope=col>&lt;dbl&gt;</th><th scope=col>&lt;dbl&gt;</th><th scope=col>&lt;dbl&gt;</th><th scope=col>&lt;dbl&gt;</th><th scope=col>&lt;dbl&gt;</th><th scope=col>&lt;dbl&gt;</th><th scope=col>&lt;dbl&gt;</th><th scope=col>&lt;dbl&gt;</th><th scope=col>&lt;dbl&gt;</th></tr>\n",
       "</thead>\n",
       "<tbody>\n",
       "\t<tr><th scope=row>1</th><td>Tule-Cattail</td><td>3</td><td> 7.851385</td><td>32.63096</td><td>3.896140</td><td>47.736321</td><td>80.87057</td><td>177.0662</td><td>324.7869</td><td>1202.5060</td><td>⋯</td><td>248.7252</td><td>5334.024</td><td>2841.283</td><td>6800.173</td><td>1025749.9</td><td>65.62941</td><td>-40.89175</td><td> 0.2527533</td><td>1823.6305</td><td>213.00000</td></tr>\n",
       "\t<tr><th scope=row>2</th><td>Tule-Cattail</td><td>3</td><td> 7.549890</td><td>28.95659</td><td>2.009433</td><td>20.063142</td><td>89.00000</td><td>173.0000</td><td>318.0000</td><td>1848.8770</td><td>⋯</td><td>242.0000</td><td>6093.218</td><td>3466.011</td><td>7333.495</td><td>1126375.2</td><td>79.46150</td><td>-48.73224</td><td> 0.1808289</td><td>2054.1077</td><td> -1.64365</td></tr>\n",
       "\t<tr><th scope=row>3</th><td>Tule-Cattail</td><td>3</td><td> 7.187965</td><td>32.63771</td><td>2.460131</td><td> 5.109756</td><td>78.61936</td><td>152.6778</td><td>244.8710</td><td>1691.0969</td><td>⋯</td><td>198.6616</td><td>4984.047</td><td>7211.328</td><td>7409.140</td><td> 985631.4</td><td>93.53018</td><td>-43.86690</td><td>-0.6824750</td><td>2186.7802</td><td> 34.79442</td></tr>\n",
       "\t<tr><th scope=row>4</th><td>Tule-Cattail</td><td>1</td><td> 8.988967</td><td>20.48287</td><td>3.884497</td><td>16.885301</td><td>89.13319</td><td>166.6149</td><td>258.1697</td><td> 793.4783</td><td>⋯</td><td>210.2925</td><td>2364.427</td><td>2936.376</td><td>4088.157</td><td> 464582.1</td><td>46.15378</td><td>-30.38030</td><td>-0.1585804</td><td>1661.1287</td><td>-38.18615</td></tr>\n",
       "\t<tr><th scope=row>6</th><td>Tule-Cattail</td><td>0</td><td>14.383717</td><td>30.19954</td><td>7.608656</td><td>72.879587</td><td>81.00000</td><td>158.0000</td><td>331.3791</td><td>1129.5296</td><td>⋯</td><td>241.3389</td><td>2271.550</td><td>3070.493</td><td>2933.663</td><td> 650493.9</td><td>35.77537</td><td>-13.78752</td><td>-0.4024138</td><td>-196.6292</td><td>-43.28105</td></tr>\n",
       "\t<tr><th scope=row>7</th><td>Tule-Cattail</td><td>3</td><td> 8.335444</td><td>20.42485</td><td>2.195180</td><td>30.690648</td><td>89.00000</td><td>175.1976</td><td>325.0000</td><td>1502.7268</td><td>⋯</td><td>249.0000</td><td>5462.123</td><td>2402.663</td><td>6412.117</td><td> 956641.3</td><td>67.83360</td><td>-41.18478</td><td> 0.2692295</td><td>2016.8529</td><td>-16.36991</td></tr>\n",
       "</tbody>\n",
       "</table>\n"
      ],
      "text/latex": [
       "A data.frame: 6 × 24\n",
       "\\begin{tabular}{r|lllllllllllllllllllll}\n",
       "  & vegclass & clusters & rmse\\_all & rmse\\_sos & rmse\\_pos & rmse\\_eos & SOS & POS & EOS & vSOS & ⋯ & MAU & vMSP & vMAU & AOS & IOS & ROG & ROS & SW & dem & tpi\\\\\n",
       "  & <fct> & <fct> & <dbl> & <dbl> & <dbl> & <dbl> & <dbl> & <dbl> & <dbl> & <dbl> & ⋯ & <dbl> & <dbl> & <dbl> & <dbl> & <dbl> & <dbl> & <dbl> & <dbl> & <dbl> & <dbl>\\\\\n",
       "\\hline\n",
       "\t1 & Tule-Cattail & 3 &  7.851385 & 32.63096 & 3.896140 & 47.736321 & 80.87057 & 177.0662 & 324.7869 & 1202.5060 & ⋯ & 248.7252 & 5334.024 & 2841.283 & 6800.173 & 1025749.9 & 65.62941 & -40.89175 &  0.2527533 & 1823.6305 & 213.00000\\\\\n",
       "\t2 & Tule-Cattail & 3 &  7.549890 & 28.95659 & 2.009433 & 20.063142 & 89.00000 & 173.0000 & 318.0000 & 1848.8770 & ⋯ & 242.0000 & 6093.218 & 3466.011 & 7333.495 & 1126375.2 & 79.46150 & -48.73224 &  0.1808289 & 2054.1077 &  -1.64365\\\\\n",
       "\t3 & Tule-Cattail & 3 &  7.187965 & 32.63771 & 2.460131 &  5.109756 & 78.61936 & 152.6778 & 244.8710 & 1691.0969 & ⋯ & 198.6616 & 4984.047 & 7211.328 & 7409.140 &  985631.4 & 93.53018 & -43.86690 & -0.6824750 & 2186.7802 &  34.79442\\\\\n",
       "\t4 & Tule-Cattail & 1 &  8.988967 & 20.48287 & 3.884497 & 16.885301 & 89.13319 & 166.6149 & 258.1697 &  793.4783 & ⋯ & 210.2925 & 2364.427 & 2936.376 & 4088.157 &  464582.1 & 46.15378 & -30.38030 & -0.1585804 & 1661.1287 & -38.18615\\\\\n",
       "\t6 & Tule-Cattail & 0 & 14.383717 & 30.19954 & 7.608656 & 72.879587 & 81.00000 & 158.0000 & 331.3791 & 1129.5296 & ⋯ & 241.3389 & 2271.550 & 3070.493 & 2933.663 &  650493.9 & 35.77537 & -13.78752 & -0.4024138 & -196.6292 & -43.28105\\\\\n",
       "\t7 & Tule-Cattail & 3 &  8.335444 & 20.42485 & 2.195180 & 30.690648 & 89.00000 & 175.1976 & 325.0000 & 1502.7268 & ⋯ & 249.0000 & 5462.123 & 2402.663 & 6412.117 &  956641.3 & 67.83360 & -41.18478 &  0.2692295 & 2016.8529 & -16.36991\\\\\n",
       "\\end{tabular}\n"
      ],
      "text/markdown": [
       "\n",
       "A data.frame: 6 × 24\n",
       "\n",
       "| <!--/--> | vegclass &lt;fct&gt; | clusters &lt;fct&gt; | rmse_all &lt;dbl&gt; | rmse_sos &lt;dbl&gt; | rmse_pos &lt;dbl&gt; | rmse_eos &lt;dbl&gt; | SOS &lt;dbl&gt; | POS &lt;dbl&gt; | EOS &lt;dbl&gt; | vSOS &lt;dbl&gt; | ⋯ ⋯ | MAU &lt;dbl&gt; | vMSP &lt;dbl&gt; | vMAU &lt;dbl&gt; | AOS &lt;dbl&gt; | IOS &lt;dbl&gt; | ROG &lt;dbl&gt; | ROS &lt;dbl&gt; | SW &lt;dbl&gt; | dem &lt;dbl&gt; | tpi &lt;dbl&gt; |\n",
       "|---|---|---|---|---|---|---|---|---|---|---|---|---|---|---|---|---|---|---|---|---|---|\n",
       "| 1 | Tule-Cattail | 3 |  7.851385 | 32.63096 | 3.896140 | 47.736321 | 80.87057 | 177.0662 | 324.7869 | 1202.5060 | ⋯ | 248.7252 | 5334.024 | 2841.283 | 6800.173 | 1025749.9 | 65.62941 | -40.89175 |  0.2527533 | 1823.6305 | 213.00000 |\n",
       "| 2 | Tule-Cattail | 3 |  7.549890 | 28.95659 | 2.009433 | 20.063142 | 89.00000 | 173.0000 | 318.0000 | 1848.8770 | ⋯ | 242.0000 | 6093.218 | 3466.011 | 7333.495 | 1126375.2 | 79.46150 | -48.73224 |  0.1808289 | 2054.1077 |  -1.64365 |\n",
       "| 3 | Tule-Cattail | 3 |  7.187965 | 32.63771 | 2.460131 |  5.109756 | 78.61936 | 152.6778 | 244.8710 | 1691.0969 | ⋯ | 198.6616 | 4984.047 | 7211.328 | 7409.140 |  985631.4 | 93.53018 | -43.86690 | -0.6824750 | 2186.7802 |  34.79442 |\n",
       "| 4 | Tule-Cattail | 1 |  8.988967 | 20.48287 | 3.884497 | 16.885301 | 89.13319 | 166.6149 | 258.1697 |  793.4783 | ⋯ | 210.2925 | 2364.427 | 2936.376 | 4088.157 |  464582.1 | 46.15378 | -30.38030 | -0.1585804 | 1661.1287 | -38.18615 |\n",
       "| 6 | Tule-Cattail | 0 | 14.383717 | 30.19954 | 7.608656 | 72.879587 | 81.00000 | 158.0000 | 331.3791 | 1129.5296 | ⋯ | 241.3389 | 2271.550 | 3070.493 | 2933.663 |  650493.9 | 35.77537 | -13.78752 | -0.4024138 | -196.6292 | -43.28105 |\n",
       "| 7 | Tule-Cattail | 3 |  8.335444 | 20.42485 | 2.195180 | 30.690648 | 89.00000 | 175.1976 | 325.0000 | 1502.7268 | ⋯ | 249.0000 | 5462.123 | 2402.663 | 6412.117 |  956641.3 | 67.83360 | -41.18478 |  0.2692295 | 2016.8529 | -16.36991 |\n",
       "\n"
      ],
      "text/plain": [
       "  vegclass     clusters rmse_all  rmse_sos rmse_pos rmse_eos  SOS      POS     \n",
       "1 Tule-Cattail 3         7.851385 32.63096 3.896140 47.736321 80.87057 177.0662\n",
       "2 Tule-Cattail 3         7.549890 28.95659 2.009433 20.063142 89.00000 173.0000\n",
       "3 Tule-Cattail 3         7.187965 32.63771 2.460131  5.109756 78.61936 152.6778\n",
       "4 Tule-Cattail 1         8.988967 20.48287 3.884497 16.885301 89.13319 166.6149\n",
       "6 Tule-Cattail 0        14.383717 30.19954 7.608656 72.879587 81.00000 158.0000\n",
       "7 Tule-Cattail 3         8.335444 20.42485 2.195180 30.690648 89.00000 175.1976\n",
       "  EOS      vSOS      ⋯ MAU      vMSP     vMAU     AOS      IOS       ROG     \n",
       "1 324.7869 1202.5060 ⋯ 248.7252 5334.024 2841.283 6800.173 1025749.9 65.62941\n",
       "2 318.0000 1848.8770 ⋯ 242.0000 6093.218 3466.011 7333.495 1126375.2 79.46150\n",
       "3 244.8710 1691.0969 ⋯ 198.6616 4984.047 7211.328 7409.140  985631.4 93.53018\n",
       "4 258.1697  793.4783 ⋯ 210.2925 2364.427 2936.376 4088.157  464582.1 46.15378\n",
       "6 331.3791 1129.5296 ⋯ 241.3389 2271.550 3070.493 2933.663  650493.9 35.77537\n",
       "7 325.0000 1502.7268 ⋯ 249.0000 5462.123 2402.663 6412.117  956641.3 67.83360\n",
       "  ROS       SW         dem       tpi      \n",
       "1 -40.89175  0.2527533 1823.6305 213.00000\n",
       "2 -48.73224  0.1808289 2054.1077  -1.64365\n",
       "3 -43.86690 -0.6824750 2186.7802  34.79442\n",
       "4 -30.38030 -0.1585804 1661.1287 -38.18615\n",
       "6 -13.78752 -0.4024138 -196.6292 -43.28105\n",
       "7 -41.18478  0.2692295 2016.8529 -16.36991"
      ]
     },
     "metadata": {},
     "output_type": "display_data"
    }
   ],
   "source": [
    "head(all)"
   ]
  },
  {
   "cell_type": "code",
   "execution_count": 51,
   "metadata": {},
   "outputs": [
    {
     "data": {
      "image/png": "[encoded data removed]",
      "text/plain": [
       "Plot with title “”"
      ]
     },
     "metadata": {
      "image/png": {
       "height": 420,
       "width": 420
      }
     },
     "output_type": "display_data"
    }
   ],
   "source": [
    "# install.packages('corrplot')\n",
    "require('corrplot')\n",
    "\n",
    "# colnames(all[,3:ncol(all)])\n",
    "M = cor(all[,3:ncol(all)])\n",
    "testRes = cor.mtest(all[,3:ncol(all)], conf.level = 0.95)\n",
    "\n",
    "corrplot(M, p.mat = testRes$p, sig.level = 0.05, addrect = 2, type=\"lower\")"
   ]
  },
  {
   "cell_type": "code",
   "execution_count": 15,
   "metadata": {},
   "outputs": [],
   "source": [
    "# create empty matrices\n",
    "mat_veg  = matrix(NA, ncol=ncol(all)-2, nrow=2)\n",
    "colnames(mat_veg) = colnames(all)[3:ncol(all)]\n",
    "rownames(mat_veg) = c(\"A\", \"P\")\n",
    "\n",
    "mat_clust  = matrix(NA, ncol=ncol(all)-2, nrow=2)\n",
    "colnames(mat_clust) = colnames(all)[3:ncol(all)]\n",
    "rownames(mat_clust) = c(\"A\", \"P\")"
   ]
  },
  {
   "cell_type": "code",
   "execution_count": 18,
   "metadata": {},
   "outputs": [],
   "source": [
    "# run MRPP through the variables\n",
    "MRPP <- function(X, Y, mat, num_cores = 6){\n",
    "    pb <- txtProgressBar(min = 0, max = ncol(all), style = 3,  width = 50, char = \"=\") # progress bar\n",
    "    length = ncol(X)\n",
    "    for(i in 1:length){\n",
    "      obj_mrpp = mrpp(dat = X[,i], grouping = Y, parallel = num_cores, distance = \"mahalanobis\")\n",
    "      mat[1,i] = obj_mrpp$A\n",
    "      mat[2,i] = obj_mrpp$Pvalue\n",
    "      setTxtProgressBar(pb, i)\n",
    "    }\n",
    "    close(pb) # close progress bar\n",
    "    return(mat)\n",
    "}"
   ]
  },
  {
   "cell_type": "markdown",
   "metadata": {},
   "source": [
    "## Calculate for original vegetation types and clusters"
   ]
  },
  {
   "cell_type": "code",
   "execution_count": 19,
   "metadata": {},
   "outputs": [
    {
     "name": "stdout",
     "output_type": "stream",
     "text": [
      "  |==============================================    |  92%\n"
     ]
    },
    {
     "data": {
      "text/html": [
       "<table>\n",
       "<caption>A matrix: 2 × 22 of type dbl</caption>\n",
       "<thead>\n",
       "\t<tr><th></th><th scope=col>rmse_all</th><th scope=col>rmse_sos</th><th scope=col>rmse_pos</th><th scope=col>rmse_eos</th><th scope=col>SOS</th><th scope=col>POS</th><th scope=col>EOS</th><th scope=col>vSOS</th><th scope=col>vPOS</th><th scope=col>vEOS</th><th scope=col>⋯</th><th scope=col>MAU</th><th scope=col>vMSP</th><th scope=col>vMAU</th><th scope=col>AOS</th><th scope=col>IOS</th><th scope=col>ROG</th><th scope=col>ROS</th><th scope=col>SW</th><th scope=col>dem</th><th scope=col>tpi</th></tr>\n",
       "</thead>\n",
       "<tbody>\n",
       "\t<tr><th scope=row>A</th><td>0.04559655</td><td>0.008169716</td><td>0.06171752</td><td>0.0130357</td><td>0.04830899</td><td>0.1131002</td><td>0.02264656</td><td>0.1808167</td><td>0.06329915</td><td>0.08127387</td><td>⋯</td><td>0.0839551</td><td>0.1188777</td><td>0.04470523</td><td>0.03227999</td><td>0.09254961</td><td>0.04328615</td><td>0.03668732</td><td>0.04194716</td><td>0.2065258</td><td>0.01389629</td></tr>\n",
       "\t<tr><th scope=row>P</th><td>0.00100000</td><td>0.002000000</td><td>0.00100000</td><td>0.0010000</td><td>0.00100000</td><td>0.0010000</td><td>0.00100000</td><td>0.0010000</td><td>0.00100000</td><td>0.00100000</td><td>⋯</td><td>0.0010000</td><td>0.0010000</td><td>0.00100000</td><td>0.00100000</td><td>0.00100000</td><td>0.00100000</td><td>0.00100000</td><td>0.00100000</td><td>0.0010000</td><td>0.00100000</td></tr>\n",
       "</tbody>\n",
       "</table>\n"
      ],
      "text/latex": [
       "A matrix: 2 × 22 of type dbl\n",
       "\\begin{tabular}{r|lllllllllllllllllllll}\n",
       "  & rmse\\_all & rmse\\_sos & rmse\\_pos & rmse\\_eos & SOS & POS & EOS & vSOS & vPOS & vEOS & ⋯ & MAU & vMSP & vMAU & AOS & IOS & ROG & ROS & SW & dem & tpi\\\\\n",
       "\\hline\n",
       "\tA & 0.04559655 & 0.008169716 & 0.06171752 & 0.0130357 & 0.04830899 & 0.1131002 & 0.02264656 & 0.1808167 & 0.06329915 & 0.08127387 & ⋯ & 0.0839551 & 0.1188777 & 0.04470523 & 0.03227999 & 0.09254961 & 0.04328615 & 0.03668732 & 0.04194716 & 0.2065258 & 0.01389629\\\\\n",
       "\tP & 0.00100000 & 0.002000000 & 0.00100000 & 0.0010000 & 0.00100000 & 0.0010000 & 0.00100000 & 0.0010000 & 0.00100000 & 0.00100000 & ⋯ & 0.0010000 & 0.0010000 & 0.00100000 & 0.00100000 & 0.00100000 & 0.00100000 & 0.00100000 & 0.00100000 & 0.0010000 & 0.00100000\\\\\n",
       "\\end{tabular}\n"
      ],
      "text/markdown": [
       "\n",
       "A matrix: 2 × 22 of type dbl\n",
       "\n",
       "| <!--/--> | rmse_all | rmse_sos | rmse_pos | rmse_eos | SOS | POS | EOS | vSOS | vPOS | vEOS | ⋯ | MAU | vMSP | vMAU | AOS | IOS | ROG | ROS | SW | dem | tpi |\n",
       "|---|---|---|---|---|---|---|---|---|---|---|---|---|---|---|---|---|---|---|---|---|---|\n",
       "| A | 0.04559655 | 0.008169716 | 0.06171752 | 0.0130357 | 0.04830899 | 0.1131002 | 0.02264656 | 0.1808167 | 0.06329915 | 0.08127387 | ⋯ | 0.0839551 | 0.1188777 | 0.04470523 | 0.03227999 | 0.09254961 | 0.04328615 | 0.03668732 | 0.04194716 | 0.2065258 | 0.01389629 |\n",
       "| P | 0.00100000 | 0.002000000 | 0.00100000 | 0.0010000 | 0.00100000 | 0.0010000 | 0.00100000 | 0.0010000 | 0.00100000 | 0.00100000 | ⋯ | 0.0010000 | 0.0010000 | 0.00100000 | 0.00100000 | 0.00100000 | 0.00100000 | 0.00100000 | 0.00100000 | 0.0010000 | 0.00100000 |\n",
       "\n"
      ],
      "text/plain": [
       "  rmse_all   rmse_sos    rmse_pos   rmse_eos  SOS        POS       EOS       \n",
       "A 0.04559655 0.008169716 0.06171752 0.0130357 0.04830899 0.1131002 0.02264656\n",
       "P 0.00100000 0.002000000 0.00100000 0.0010000 0.00100000 0.0010000 0.00100000\n",
       "  vSOS      vPOS       vEOS       ⋯ MAU       vMSP      vMAU       AOS       \n",
       "A 0.1808167 0.06329915 0.08127387 ⋯ 0.0839551 0.1188777 0.04470523 0.03227999\n",
       "P 0.0010000 0.00100000 0.00100000 ⋯ 0.0010000 0.0010000 0.00100000 0.00100000\n",
       "  IOS        ROG        ROS        SW         dem       tpi       \n",
       "A 0.09254961 0.04328615 0.03668732 0.04194716 0.2065258 0.01389629\n",
       "P 0.00100000 0.00100000 0.00100000 0.00100000 0.0010000 0.00100000"
      ]
     },
     "metadata": {},
     "output_type": "display_data"
    }
   ],
   "source": [
    "# vegetation types\n",
    "mrpp_veg = MRPP(all[,3:ncol(all)], all$vegclass, mat_veg)\n",
    "mrpp_veg"
   ]
  },
  {
   "cell_type": "code",
   "execution_count": 20,
   "metadata": {
    "tags": []
   },
   "outputs": [
    {
     "name": "stdout",
     "output_type": "stream",
     "text": [
      "  |==============================================    |  92%\n"
     ]
    },
    {
     "data": {
      "text/html": [
       "<table>\n",
       "<caption>A matrix: 2 × 22 of type dbl</caption>\n",
       "<thead>\n",
       "\t<tr><th></th><th scope=col>rmse_all</th><th scope=col>rmse_sos</th><th scope=col>rmse_pos</th><th scope=col>rmse_eos</th><th scope=col>SOS</th><th scope=col>POS</th><th scope=col>EOS</th><th scope=col>vSOS</th><th scope=col>vPOS</th><th scope=col>vEOS</th><th scope=col>⋯</th><th scope=col>MAU</th><th scope=col>vMSP</th><th scope=col>vMAU</th><th scope=col>AOS</th><th scope=col>IOS</th><th scope=col>ROG</th><th scope=col>ROS</th><th scope=col>SW</th><th scope=col>dem</th><th scope=col>tpi</th></tr>\n",
       "</thead>\n",
       "<tbody>\n",
       "\t<tr><th scope=row>A</th><td>0.03103616</td><td>0.007343752</td><td>0.08816704</td><td>0.02749236</td><td>0.05102985</td><td>0.2016369</td><td>0.02539976</td><td>0.3748512</td><td>0.3823349</td><td>0.310739</td><td>⋯</td><td>0.141487</td><td>0.4207446</td><td>0.3887799</td><td>0.1753231</td><td>0.3851342</td><td>0.1197411</td><td>0.05068783</td><td>0.1174107</td><td>0.08282906</td><td>0.0005622185</td></tr>\n",
       "\t<tr><th scope=row>P</th><td>0.00100000</td><td>0.001000000</td><td>0.00100000</td><td>0.00100000</td><td>0.00100000</td><td>0.0010000</td><td>0.00100000</td><td>0.0010000</td><td>0.0010000</td><td>0.001000</td><td>⋯</td><td>0.001000</td><td>0.0010000</td><td>0.0010000</td><td>0.0010000</td><td>0.0010000</td><td>0.0010000</td><td>0.00100000</td><td>0.0010000</td><td>0.00100000</td><td>0.1340000000</td></tr>\n",
       "</tbody>\n",
       "</table>\n"
      ],
      "text/latex": [
       "A matrix: 2 × 22 of type dbl\n",
       "\\begin{tabular}{r|lllllllllllllllllllll}\n",
       "  & rmse\\_all & rmse\\_sos & rmse\\_pos & rmse\\_eos & SOS & POS & EOS & vSOS & vPOS & vEOS & ⋯ & MAU & vMSP & vMAU & AOS & IOS & ROG & ROS & SW & dem & tpi\\\\\n",
       "\\hline\n",
       "\tA & 0.03103616 & 0.007343752 & 0.08816704 & 0.02749236 & 0.05102985 & 0.2016369 & 0.02539976 & 0.3748512 & 0.3823349 & 0.310739 & ⋯ & 0.141487 & 0.4207446 & 0.3887799 & 0.1753231 & 0.3851342 & 0.1197411 & 0.05068783 & 0.1174107 & 0.08282906 & 0.0005622185\\\\\n",
       "\tP & 0.00100000 & 0.001000000 & 0.00100000 & 0.00100000 & 0.00100000 & 0.0010000 & 0.00100000 & 0.0010000 & 0.0010000 & 0.001000 & ⋯ & 0.001000 & 0.0010000 & 0.0010000 & 0.0010000 & 0.0010000 & 0.0010000 & 0.00100000 & 0.0010000 & 0.00100000 & 0.1340000000\\\\\n",
       "\\end{tabular}\n"
      ],
      "text/markdown": [
       "\n",
       "A matrix: 2 × 22 of type dbl\n",
       "\n",
       "| <!--/--> | rmse_all | rmse_sos | rmse_pos | rmse_eos | SOS | POS | EOS | vSOS | vPOS | vEOS | ⋯ | MAU | vMSP | vMAU | AOS | IOS | ROG | ROS | SW | dem | tpi |\n",
       "|---|---|---|---|---|---|---|---|---|---|---|---|---|---|---|---|---|---|---|---|---|---|\n",
       "| A | 0.03103616 | 0.007343752 | 0.08816704 | 0.02749236 | 0.05102985 | 0.2016369 | 0.02539976 | 0.3748512 | 0.3823349 | 0.310739 | ⋯ | 0.141487 | 0.4207446 | 0.3887799 | 0.1753231 | 0.3851342 | 0.1197411 | 0.05068783 | 0.1174107 | 0.08282906 | 0.0005622185 |\n",
       "| P | 0.00100000 | 0.001000000 | 0.00100000 | 0.00100000 | 0.00100000 | 0.0010000 | 0.00100000 | 0.0010000 | 0.0010000 | 0.001000 | ⋯ | 0.001000 | 0.0010000 | 0.0010000 | 0.0010000 | 0.0010000 | 0.0010000 | 0.00100000 | 0.0010000 | 0.00100000 | 0.1340000000 |\n",
       "\n"
      ],
      "text/plain": [
       "  rmse_all   rmse_sos    rmse_pos   rmse_eos   SOS        POS       EOS       \n",
       "A 0.03103616 0.007343752 0.08816704 0.02749236 0.05102985 0.2016369 0.02539976\n",
       "P 0.00100000 0.001000000 0.00100000 0.00100000 0.00100000 0.0010000 0.00100000\n",
       "  vSOS      vPOS      vEOS     ⋯ MAU      vMSP      vMAU      AOS      \n",
       "A 0.3748512 0.3823349 0.310739 ⋯ 0.141487 0.4207446 0.3887799 0.1753231\n",
       "P 0.0010000 0.0010000 0.001000 ⋯ 0.001000 0.0010000 0.0010000 0.0010000\n",
       "  IOS       ROG       ROS        SW        dem        tpi         \n",
       "A 0.3851342 0.1197411 0.05068783 0.1174107 0.08282906 0.0005622185\n",
       "P 0.0010000 0.0010000 0.00100000 0.0010000 0.00100000 0.1340000000"
      ]
     },
     "metadata": {},
     "output_type": "display_data"
    }
   ],
   "source": [
    "# phenology types\n",
    "mrpp_clust = MRPP(all[,3:ncol(all)], all$clusters, mat_clust)\n",
    "mrpp_clust"
   ]
  },
  {
   "cell_type": "code",
   "execution_count": 21,
   "metadata": {
    "tags": []
   },
   "outputs": [],
   "source": [
    "save.image('mrpp.RData')"
   ]
  },
  {
   "cell_type": "code",
   "execution_count": 39,
   "metadata": {},
   "outputs": [],
   "source": [
    "# functions to plot the relatve importance using inferno colors\n",
    "library(\"viridis\")  \n",
    "\n",
    "# add coefficients\n",
    "colorpal <-  inferno(100)\n",
    "\n",
    "varImp <- function(varImport = mrpp_lsp){\n",
    "   # variables from ensemble\n",
    "    imp <- varImport\n",
    "\n",
    "    # matices of varImport\n",
    "    z1 <- matrix (rep (imp, 100), ncol=100)\n",
    "\n",
    "    # MRFF coefficients\n",
    "    wl = seq(length(imp))\n",
    "    #image(wl, seq(0, 100, 1), z1, xlim = c(min(wl)-10, max(wl)+10), xlab=expression(lambda(nm)), col=blueish, ylab=\"\", axes=F, cex.lab = 1.3)\n",
    "    image(wl, seq(0, 100, 1), z1, xlim = c(min(wl)-10, max(wl)+10), xlab=\"\", col=colorpal  , ylab=\"\", axes=F, cex.lab = 1.3)    \n",
    "}"
   ]
  },
  {
   "cell_type": "code",
   "execution_count": 24,
   "metadata": {},
   "outputs": [
    {
     "data": {
      "text/html": [
       "<strong>png:</strong> 2"
      ],
      "text/latex": [
       "\\textbf{png:} 2"
      ],
      "text/markdown": [
       "**png:** 2"
      ],
      "text/plain": [
       "png \n",
       "  2 "
      ]
     },
     "metadata": {},
     "output_type": "display_data"
    }
   ],
   "source": [
    "svg('mrpp_veg.svg')\n",
    "varImp(mrpp_veg[1, ])\n",
    "dev.off()"
   ]
  },
  {
   "cell_type": "code",
   "execution_count": 26,
   "metadata": {},
   "outputs": [
    {
     "data": {
      "text/html": [
       "<strong>png:</strong> 2"
      ],
      "text/latex": [
       "\\textbf{png:} 2"
      ],
      "text/markdown": [
       "**png:** 2"
      ],
      "text/plain": [
       "png \n",
       "  2 "
      ]
     },
     "metadata": {},
     "output_type": "display_data"
    }
   ],
   "source": [
    "svg('mrpp_clust.svg')\n",
    "varImp(mrpp_clust[1, ])\n",
    "dev.off()"
   ]
  },
  {
   "cell_type": "markdown",
   "metadata": {},
   "source": [
    "# Variable importance using PLS-DA\n",
    "\n",
    "We determined the contribution of each indicator to discern the vegetation and phenology classes by applying using Partial Least Squares Discriminant Analysis (PLS-DA) with a bootstrapping iteration procedure, wherein each iteration (100) we:\n",
    "\n",
    "- Fitted a general model using all indicators and observations available and stored the overall Kappa (Kall) value;\n",
    "- Fitted a indicator-wise partial models by randomizing the values of one indicator at the time in a stepwise procedure, storing one K value for each indicator replacement (Ki);\n",
    "- Estimated the relative contribution of each indicator by subtracting the indicator-wise partial model from the overall model (Kall ₋ Ki), generating a delta Kappa per indicator (ΔK).\n",
    "\n",
    "We used on average 63% samples for model training and 37% for validation during each iteration. We used PLS models on the training samples using a 5-fold cross-validation approach. We stored the results of the 100 iterations to present the distribution of ΔK and prevent stochastic biases (Kattenborn et al., 2019)"
   ]
  },
  {
   "cell_type": "code",
   "execution_count": 27,
   "metadata": {},
   "outputs": [
    {
     "data": {
      "text/html": [
       "<table>\n",
       "<caption>A data.frame: 6 × 24</caption>\n",
       "<thead>\n",
       "\t<tr><th></th><th scope=col>vegclass</th><th scope=col>clusters</th><th scope=col>rmse_all</th><th scope=col>rmse_sos</th><th scope=col>rmse_pos</th><th scope=col>rmse_eos</th><th scope=col>SOS</th><th scope=col>POS</th><th scope=col>EOS</th><th scope=col>vSOS</th><th scope=col>⋯</th><th scope=col>MAU</th><th scope=col>vMSP</th><th scope=col>vMAU</th><th scope=col>AOS</th><th scope=col>IOS</th><th scope=col>ROG</th><th scope=col>ROS</th><th scope=col>SW</th><th scope=col>dem</th><th scope=col>tpi</th></tr>\n",
       "\t<tr><th></th><th scope=col>&lt;fct&gt;</th><th scope=col>&lt;fct&gt;</th><th scope=col>&lt;dbl&gt;</th><th scope=col>&lt;dbl&gt;</th><th scope=col>&lt;dbl&gt;</th><th scope=col>&lt;dbl&gt;</th><th scope=col>&lt;dbl&gt;</th><th scope=col>&lt;dbl&gt;</th><th scope=col>&lt;dbl&gt;</th><th scope=col>&lt;dbl&gt;</th><th scope=col>⋯</th><th scope=col>&lt;dbl&gt;</th><th scope=col>&lt;dbl&gt;</th><th scope=col>&lt;dbl&gt;</th><th scope=col>&lt;dbl&gt;</th><th scope=col>&lt;dbl&gt;</th><th scope=col>&lt;dbl&gt;</th><th scope=col>&lt;dbl&gt;</th><th scope=col>&lt;dbl&gt;</th><th scope=col>&lt;dbl&gt;</th><th scope=col>&lt;dbl&gt;</th></tr>\n",
       "</thead>\n",
       "<tbody>\n",
       "\t<tr><th scope=row>1</th><td>Tule-Cattail</td><td>3</td><td> 7.851385</td><td>32.63096</td><td>3.896140</td><td>47.736321</td><td>80.87057</td><td>177.0662</td><td>324.7869</td><td>1202.5060</td><td>⋯</td><td>248.7252</td><td>5334.024</td><td>2841.283</td><td>6800.173</td><td>1025749.9</td><td>65.62941</td><td>-40.89175</td><td> 0.2527533</td><td>1823.6305</td><td>213.00000</td></tr>\n",
       "\t<tr><th scope=row>2</th><td>Tule-Cattail</td><td>3</td><td> 7.549890</td><td>28.95659</td><td>2.009433</td><td>20.063142</td><td>89.00000</td><td>173.0000</td><td>318.0000</td><td>1848.8770</td><td>⋯</td><td>242.0000</td><td>6093.218</td><td>3466.011</td><td>7333.495</td><td>1126375.2</td><td>79.46150</td><td>-48.73224</td><td> 0.1808289</td><td>2054.1077</td><td> -1.64365</td></tr>\n",
       "\t<tr><th scope=row>3</th><td>Tule-Cattail</td><td>3</td><td> 7.187965</td><td>32.63771</td><td>2.460131</td><td> 5.109756</td><td>78.61936</td><td>152.6778</td><td>244.8710</td><td>1691.0969</td><td>⋯</td><td>198.6616</td><td>4984.047</td><td>7211.328</td><td>7409.140</td><td> 985631.4</td><td>93.53018</td><td>-43.86690</td><td>-0.6824750</td><td>2186.7802</td><td> 34.79442</td></tr>\n",
       "\t<tr><th scope=row>4</th><td>Tule-Cattail</td><td>1</td><td> 8.988967</td><td>20.48287</td><td>3.884497</td><td>16.885301</td><td>89.13319</td><td>166.6149</td><td>258.1697</td><td> 793.4783</td><td>⋯</td><td>210.2925</td><td>2364.427</td><td>2936.376</td><td>4088.157</td><td> 464582.1</td><td>46.15378</td><td>-30.38030</td><td>-0.1585804</td><td>1661.1287</td><td>-38.18615</td></tr>\n",
       "\t<tr><th scope=row>6</th><td>Tule-Cattail</td><td>0</td><td>14.383717</td><td>30.19954</td><td>7.608656</td><td>72.879587</td><td>81.00000</td><td>158.0000</td><td>331.3791</td><td>1129.5296</td><td>⋯</td><td>241.3389</td><td>2271.550</td><td>3070.493</td><td>2933.663</td><td> 650493.9</td><td>35.77537</td><td>-13.78752</td><td>-0.4024138</td><td>-196.6292</td><td>-43.28105</td></tr>\n",
       "\t<tr><th scope=row>7</th><td>Tule-Cattail</td><td>3</td><td> 8.335444</td><td>20.42485</td><td>2.195180</td><td>30.690648</td><td>89.00000</td><td>175.1976</td><td>325.0000</td><td>1502.7268</td><td>⋯</td><td>249.0000</td><td>5462.123</td><td>2402.663</td><td>6412.117</td><td> 956641.3</td><td>67.83360</td><td>-41.18478</td><td> 0.2692295</td><td>2016.8529</td><td>-16.36991</td></tr>\n",
       "</tbody>\n",
       "</table>\n"
      ],
      "text/latex": [
       "A data.frame: 6 × 24\n",
       "\\begin{tabular}{r|lllllllllllllllllllll}\n",
       "  & vegclass & clusters & rmse\\_all & rmse\\_sos & rmse\\_pos & rmse\\_eos & SOS & POS & EOS & vSOS & ⋯ & MAU & vMSP & vMAU & AOS & IOS & ROG & ROS & SW & dem & tpi\\\\\n",
       "  & <fct> & <fct> & <dbl> & <dbl> & <dbl> & <dbl> & <dbl> & <dbl> & <dbl> & <dbl> & ⋯ & <dbl> & <dbl> & <dbl> & <dbl> & <dbl> & <dbl> & <dbl> & <dbl> & <dbl> & <dbl>\\\\\n",
       "\\hline\n",
       "\t1 & Tule-Cattail & 3 &  7.851385 & 32.63096 & 3.896140 & 47.736321 & 80.87057 & 177.0662 & 324.7869 & 1202.5060 & ⋯ & 248.7252 & 5334.024 & 2841.283 & 6800.173 & 1025749.9 & 65.62941 & -40.89175 &  0.2527533 & 1823.6305 & 213.00000\\\\\n",
       "\t2 & Tule-Cattail & 3 &  7.549890 & 28.95659 & 2.009433 & 20.063142 & 89.00000 & 173.0000 & 318.0000 & 1848.8770 & ⋯ & 242.0000 & 6093.218 & 3466.011 & 7333.495 & 1126375.2 & 79.46150 & -48.73224 &  0.1808289 & 2054.1077 &  -1.64365\\\\\n",
       "\t3 & Tule-Cattail & 3 &  7.187965 & 32.63771 & 2.460131 &  5.109756 & 78.61936 & 152.6778 & 244.8710 & 1691.0969 & ⋯ & 198.6616 & 4984.047 & 7211.328 & 7409.140 &  985631.4 & 93.53018 & -43.86690 & -0.6824750 & 2186.7802 &  34.79442\\\\\n",
       "\t4 & Tule-Cattail & 1 &  8.988967 & 20.48287 & 3.884497 & 16.885301 & 89.13319 & 166.6149 & 258.1697 &  793.4783 & ⋯ & 210.2925 & 2364.427 & 2936.376 & 4088.157 &  464582.1 & 46.15378 & -30.38030 & -0.1585804 & 1661.1287 & -38.18615\\\\\n",
       "\t6 & Tule-Cattail & 0 & 14.383717 & 30.19954 & 7.608656 & 72.879587 & 81.00000 & 158.0000 & 331.3791 & 1129.5296 & ⋯ & 241.3389 & 2271.550 & 3070.493 & 2933.663 &  650493.9 & 35.77537 & -13.78752 & -0.4024138 & -196.6292 & -43.28105\\\\\n",
       "\t7 & Tule-Cattail & 3 &  8.335444 & 20.42485 & 2.195180 & 30.690648 & 89.00000 & 175.1976 & 325.0000 & 1502.7268 & ⋯ & 249.0000 & 5462.123 & 2402.663 & 6412.117 &  956641.3 & 67.83360 & -41.18478 &  0.2692295 & 2016.8529 & -16.36991\\\\\n",
       "\\end{tabular}\n"
      ],
      "text/markdown": [
       "\n",
       "A data.frame: 6 × 24\n",
       "\n",
       "| <!--/--> | vegclass &lt;fct&gt; | clusters &lt;fct&gt; | rmse_all &lt;dbl&gt; | rmse_sos &lt;dbl&gt; | rmse_pos &lt;dbl&gt; | rmse_eos &lt;dbl&gt; | SOS &lt;dbl&gt; | POS &lt;dbl&gt; | EOS &lt;dbl&gt; | vSOS &lt;dbl&gt; | ⋯ ⋯ | MAU &lt;dbl&gt; | vMSP &lt;dbl&gt; | vMAU &lt;dbl&gt; | AOS &lt;dbl&gt; | IOS &lt;dbl&gt; | ROG &lt;dbl&gt; | ROS &lt;dbl&gt; | SW &lt;dbl&gt; | dem &lt;dbl&gt; | tpi &lt;dbl&gt; |\n",
       "|---|---|---|---|---|---|---|---|---|---|---|---|---|---|---|---|---|---|---|---|---|---|\n",
       "| 1 | Tule-Cattail | 3 |  7.851385 | 32.63096 | 3.896140 | 47.736321 | 80.87057 | 177.0662 | 324.7869 | 1202.5060 | ⋯ | 248.7252 | 5334.024 | 2841.283 | 6800.173 | 1025749.9 | 65.62941 | -40.89175 |  0.2527533 | 1823.6305 | 213.00000 |\n",
       "| 2 | Tule-Cattail | 3 |  7.549890 | 28.95659 | 2.009433 | 20.063142 | 89.00000 | 173.0000 | 318.0000 | 1848.8770 | ⋯ | 242.0000 | 6093.218 | 3466.011 | 7333.495 | 1126375.2 | 79.46150 | -48.73224 |  0.1808289 | 2054.1077 |  -1.64365 |\n",
       "| 3 | Tule-Cattail | 3 |  7.187965 | 32.63771 | 2.460131 |  5.109756 | 78.61936 | 152.6778 | 244.8710 | 1691.0969 | ⋯ | 198.6616 | 4984.047 | 7211.328 | 7409.140 |  985631.4 | 93.53018 | -43.86690 | -0.6824750 | 2186.7802 |  34.79442 |\n",
       "| 4 | Tule-Cattail | 1 |  8.988967 | 20.48287 | 3.884497 | 16.885301 | 89.13319 | 166.6149 | 258.1697 |  793.4783 | ⋯ | 210.2925 | 2364.427 | 2936.376 | 4088.157 |  464582.1 | 46.15378 | -30.38030 | -0.1585804 | 1661.1287 | -38.18615 |\n",
       "| 6 | Tule-Cattail | 0 | 14.383717 | 30.19954 | 7.608656 | 72.879587 | 81.00000 | 158.0000 | 331.3791 | 1129.5296 | ⋯ | 241.3389 | 2271.550 | 3070.493 | 2933.663 |  650493.9 | 35.77537 | -13.78752 | -0.4024138 | -196.6292 | -43.28105 |\n",
       "| 7 | Tule-Cattail | 3 |  8.335444 | 20.42485 | 2.195180 | 30.690648 | 89.00000 | 175.1976 | 325.0000 | 1502.7268 | ⋯ | 249.0000 | 5462.123 | 2402.663 | 6412.117 |  956641.3 | 67.83360 | -41.18478 |  0.2692295 | 2016.8529 | -16.36991 |\n",
       "\n"
      ],
      "text/plain": [
       "  vegclass     clusters rmse_all  rmse_sos rmse_pos rmse_eos  SOS      POS     \n",
       "1 Tule-Cattail 3         7.851385 32.63096 3.896140 47.736321 80.87057 177.0662\n",
       "2 Tule-Cattail 3         7.549890 28.95659 2.009433 20.063142 89.00000 173.0000\n",
       "3 Tule-Cattail 3         7.187965 32.63771 2.460131  5.109756 78.61936 152.6778\n",
       "4 Tule-Cattail 1         8.988967 20.48287 3.884497 16.885301 89.13319 166.6149\n",
       "6 Tule-Cattail 0        14.383717 30.19954 7.608656 72.879587 81.00000 158.0000\n",
       "7 Tule-Cattail 3         8.335444 20.42485 2.195180 30.690648 89.00000 175.1976\n",
       "  EOS      vSOS      ⋯ MAU      vMSP     vMAU     AOS      IOS       ROG     \n",
       "1 324.7869 1202.5060 ⋯ 248.7252 5334.024 2841.283 6800.173 1025749.9 65.62941\n",
       "2 318.0000 1848.8770 ⋯ 242.0000 6093.218 3466.011 7333.495 1126375.2 79.46150\n",
       "3 244.8710 1691.0969 ⋯ 198.6616 4984.047 7211.328 7409.140  985631.4 93.53018\n",
       "4 258.1697  793.4783 ⋯ 210.2925 2364.427 2936.376 4088.157  464582.1 46.15378\n",
       "6 331.3791 1129.5296 ⋯ 241.3389 2271.550 3070.493 2933.663  650493.9 35.77537\n",
       "7 325.0000 1502.7268 ⋯ 249.0000 5462.123 2402.663 6412.117  956641.3 67.83360\n",
       "  ROS       SW         dem       tpi      \n",
       "1 -40.89175  0.2527533 1823.6305 213.00000\n",
       "2 -48.73224  0.1808289 2054.1077  -1.64365\n",
       "3 -43.86690 -0.6824750 2186.7802  34.79442\n",
       "4 -30.38030 -0.1585804 1661.1287 -38.18615\n",
       "6 -13.78752 -0.4024138 -196.6292 -43.28105\n",
       "7 -41.18478  0.2692295 2016.8529 -16.36991"
      ]
     },
     "metadata": {},
     "output_type": "display_data"
    }
   ],
   "source": [
    "head(all)"
   ]
  },
  {
   "cell_type": "code",
   "execution_count": 6,
   "metadata": {
    "collapsed": true,
    "jupyter": {
     "outputs_hidden": true
    },
    "tags": []
   },
   "outputs": [
    {
     "name": "stderr",
     "output_type": "stream",
     "text": [
      "Loading required package: lattice\n",
      "\n",
      "Loading required package: ggplot2\n",
      "\n",
      "Warning message in fitFunc(X, Y, ncomp, Y.add = Y.add, center = center, ...):\n",
      "“No convergence in 100 iterations\n",
      "”\n",
      "Warning message in fitFunc(X, Y, ncomp, Y.add = Y.add, center = center, ...):\n",
      "“No convergence in 100 iterations\n",
      "”\n",
      "Warning message in fitFunc(X, Y, ncomp, Y.add = Y.add, center = center, ...):\n",
      "“No convergence in 100 iterations\n",
      "”\n",
      "Warning message in fitFunc(X, Y, ncomp, Y.add = Y.add, center = center, ...):\n",
      "“No convergence in 100 iterations\n",
      "”\n",
      "Warning message in fitFunc(X, Y, ncomp, Y.add = Y.add, center = center, ...):\n",
      "“No convergence in 100 iterations\n",
      "”\n",
      "Warning message in fitFunc(X, Y, ncomp, Y.add = Y.add, center = center, ...):\n",
      "“No convergence in 100 iterations\n",
      "”\n",
      "Warning message in fitFunc(X, Y, ncomp, Y.add = Y.add, center = center, ...):\n",
      "“No convergence in 100 iterations\n",
      "”\n",
      "Warning message in fitFunc(X, Y, ncomp, Y.add = Y.add, center = center, ...):\n",
      "“No convergence in 100 iterations\n",
      "”\n",
      "Warning message in fitFunc(X, Y, ncomp, Y.add = Y.add, center = center, ...):\n",
      "“No convergence in 100 iterations\n",
      "”\n",
      "Warning message in fitFunc(X, Y, ncomp, Y.add = Y.add, center = center, ...):\n",
      "“No convergence in 100 iterations\n",
      "”\n",
      "Warning message in fitFunc(X, Y, ncomp, Y.add = Y.add, center = center, ...):\n",
      "“No convergence in 100 iterations\n",
      "”\n",
      "Warning message in fitFunc(X, Y, ncomp, Y.add = Y.add, center = center, ...):\n",
      "“No convergence in 100 iterations\n",
      "”\n",
      "Warning message in fitFunc(X, Y, ncomp, Y.add = Y.add, center = center, ...):\n",
      "“No convergence in 100 iterations\n",
      "”\n",
      "Warning message in fitFunc(X, Y, ncomp, Y.add = Y.add, center = center, ...):\n",
      "“No convergence in 100 iterations\n",
      "”\n",
      "Warning message in fitFunc(X, Y, ncomp, Y.add = Y.add, center = center, ...):\n",
      "“No convergence in 100 iterations\n",
      "”\n",
      "Warning message in fitFunc(X, Y, ncomp, Y.add = Y.add, center = center, ...):\n",
      "“No convergence in 100 iterations\n",
      "”\n"
     ]
    }
   ],
   "source": [
    "library(caret)\n",
    "\n",
    "tr_control <- trainControl(method = 'cv', number = 10)\n",
    "\n",
    "# train model using vegetation clases\n",
    "PLS_veg <- train(x=all[,3:ncol(all)], y=all$vegclass , method = \"pls\",  tuneLength=20, \n",
    "               trControl = tr_control, preProcess = c(\"center\", \"scale\"), \n",
    "               metric = \"Kappa\", maximize = T, na.action=na.omit)"
   ]
  },
  {
   "cell_type": "code",
   "execution_count": 7,
   "metadata": {},
   "outputs": [
    {
     "data": {
      "text/plain": [
       "Partial Least Squares \n",
       "\n",
       "2572 samples\n",
       "  22 predictor\n",
       "  16 classes: 'Annual Grasses and Forbs', 'Baccharis (Riparian)', 'Barren', 'Coyote Brush', 'Eucalyptus', 'Interior Mixed Hardwood', 'Non-Native/Invasive Grass', 'Non-Native/Ornamental Shrub', 'Perennial Grasses and Forbs', 'Pickleweed-Cordgrass', 'Riparian Mixed Shrub', 'Saltbush', 'Tule-Cattail', 'Wet Meadows', 'Willow', 'Willow-Alder' \n",
       "\n",
       "Pre-processing: centered (22), scaled (22) \n",
       "Resampling: Cross-Validated (10 fold) \n",
       "Summary of sample sizes: 2316, 2315, 2313, 2316, 2315, 2314, ... \n",
       "Resampling results across tuning parameters:\n",
       "\n",
       "  ncomp  Accuracy   Kappa    \n",
       "   1     0.4070866  0.0391900\n",
       "   2     0.4304364  0.1122179\n",
       "   3     0.4277217  0.1161935\n",
       "   4     0.4494878  0.1507634\n",
       "   5     0.4514288  0.1530985\n",
       "   6     0.4534015  0.1563749\n",
       "   7     0.4580422  0.1630376\n",
       "   8     0.4526007  0.1541378\n",
       "   9     0.4611853  0.1695066\n",
       "  10     0.4592276  0.1694716\n",
       "  11     0.4619514  0.1737573\n",
       "  12     0.4588279  0.1686017\n",
       "  13     0.4619333  0.1734525\n",
       "  14     0.4619227  0.1735668\n",
       "  15     0.4615366  0.1728936\n",
       "  16     0.4588173  0.1683617\n",
       "  17     0.4584207  0.1678822\n",
       "  18     0.4627085  0.1747927\n",
       "  19     0.4627175  0.1747641\n",
       "  20     0.4704922  0.1896291\n",
       "\n",
       "Kappa was used to select the optimal model using the largest value.\n",
       "The final value used for the model was ncomp = 20."
      ]
     },
     "metadata": {},
     "output_type": "display_data"
    },
    {
     "data": {
      "image/png": "[encoded data removed]",
      "text/plain": [
       "plot without title"
      ]
     },
     "metadata": {
      "image/png": {
       "height": 420,
       "width": 420
      }
     },
     "output_type": "display_data"
    }
   ],
   "source": [
    "PLS_veg\n",
    "plot(PLS_veg$results[, 1], PLS_veg$results[, 3], type='l', ylab='kappa')"
   ]
  },
  {
   "cell_type": "code",
   "execution_count": 30,
   "metadata": {
    "collapsed": true,
    "jupyter": {
     "outputs_hidden": true
    },
    "tags": []
   },
   "outputs": [
    {
     "name": "stderr",
     "output_type": "stream",
     "text": [
      "Warning message in fitFunc(X, Y, ncomp, Y.add = Y.add, center = center, ...):\n",
      "“No convergence in 100 iterations\n",
      "”\n",
      "Warning message in fitFunc(X, Y, ncomp, Y.add = Y.add, center = center, ...):\n",
      "“No convergence in 100 iterations\n",
      "”\n",
      "Warning message in fitFunc(X, Y, ncomp, Y.add = Y.add, center = center, ...):\n",
      "“No convergence in 100 iterations\n",
      "”\n",
      "Warning message in fitFunc(X, Y, ncomp, Y.add = Y.add, center = center, ...):\n",
      "“No convergence in 100 iterations\n",
      "”\n",
      "Warning message in fitFunc(X, Y, ncomp, Y.add = Y.add, center = center, ...):\n",
      "“No convergence in 100 iterations\n",
      "”\n",
      "Warning message in fitFunc(X, Y, ncomp, Y.add = Y.add, center = center, ...):\n",
      "“No convergence in 100 iterations\n",
      "”\n",
      "Warning message in fitFunc(X, Y, ncomp, Y.add = Y.add, center = center, ...):\n",
      "“No convergence in 100 iterations\n",
      "”\n"
     ]
    }
   ],
   "source": [
    "# train model using cluster clases\n",
    "PLS_clust <- train(x=all[,3:ncol(all)], y=all$clusters , method = \"pls\",  tuneLength=20, \n",
    "               trControl = tr_control, preProcess = c(\"center\", \"scale\"), \n",
    "               metric = \"Kappa\", maximize = T, na.action=na.omit)"
   ]
  },
  {
   "cell_type": "code",
   "execution_count": 31,
   "metadata": {},
   "outputs": [
    {
     "data": {
      "text/plain": [
       "Partial Least Squares \n",
       "\n",
       "2572 samples\n",
       "  22 predictor\n",
       "   5 classes: '0', '1', '2', '3', '4' \n",
       "\n",
       "Pre-processing: centered (22), scaled (22) \n",
       "Resampling: Cross-Validated (10 fold) \n",
       "Summary of sample sizes: 2316, 2316, 2316, 2314, 2315, 2315, ... \n",
       "Resampling results across tuning parameters:\n",
       "\n",
       "  ncomp  Accuracy   Kappa    \n",
       "   1     0.5198658  0.3273884\n",
       "   2     0.6100682  0.4784205\n",
       "   3     0.6586422  0.5419608\n",
       "   4     0.6738115  0.5642777\n",
       "   5     0.6742036  0.5648864\n",
       "   6     0.6866340  0.5828376\n",
       "   7     0.6936184  0.5920921\n",
       "   8     0.6920664  0.5899599\n",
       "   9     0.6967479  0.5955509\n",
       "  10     0.6979077  0.5969640\n",
       "  11     0.6994535  0.5991811\n",
       "  12     0.6955503  0.5937679\n",
       "  13     0.6979121  0.5973299\n",
       "  14     0.6978985  0.5974403\n",
       "  15     0.7013899  0.6020478\n",
       "  16     0.7013839  0.6017654\n",
       "  17     0.6978849  0.5970829\n",
       "  18     0.6951506  0.5934553\n",
       "  19     0.6959379  0.5944842\n",
       "  20     0.6967221  0.5955947\n",
       "\n",
       "Kappa was used to select the optimal model using the largest value.\n",
       "The final value used for the model was ncomp = 15."
      ]
     },
     "metadata": {},
     "output_type": "display_data"
    },
    {
     "data": {
      "image/png": "[encoded data removed]",
      "text/plain": [
       "plot without title"
      ]
     },
     "metadata": {
      "image/png": {
       "height": 420,
       "width": 420
      }
     },
     "output_type": "display_data"
    }
   ],
   "source": [
    "PLS_clust\n",
    "plot(PLS_clust$results[, 1], PLS_clust$results[, 3], type='l', ylab='kappa')"
   ]
  },
  {
   "cell_type": "code",
   "execution_count": 32,
   "metadata": {},
   "outputs": [],
   "source": [
    "relPLSimp = function(X, Y, ncomp, iter=100){\n",
    "    #############################################################\n",
    "    #\n",
    "    # Estimate relative importance using PLS-DA by using Kappa \n",
    "    # and predicting values in random variables\n",
    "    #\n",
    "    # Y = observed classes (vector of Factor class)\n",
    "    # X = predictors (data frame of numerical variables)\n",
    "    # iter = number of bootstrap iterations (intener)\n",
    "    #\n",
    "    ##############################################################\n",
    "     \n",
    "    kappa <- matrix(nrow = iter, ncol = ncol(X))\n",
    "    colnames(kappa) = colnames(X)\n",
    "    \n",
    "    boot <- createResample(Y, times = iter, list = TRUE)\n",
    "    \n",
    "    pb <- txtProgressBar(min = 0, max = iter, style = 3, width = 50, char = \"=\") \n",
    "\n",
    "   for (i in 1:iter){ # bootstraps\n",
    "          \n",
    "      train_X <- X[boot[[i]],]\n",
    "      train_Y <- Y[boot[[i]]]  \n",
    "      val_X   <- X[-boot[[i]],]\n",
    "      val_Y   <- Y[-boot[[i]]]\n",
    "\n",
    "      PLS  <- caret::plsda(x = train_X, y = train_Y, ncomp = ncomp, probMethod = 'softmax')\n",
    "      pred <- predict(PLS, val_X)\n",
    "\n",
    "      mat_pls <- confusionMatrix(pred, val_Y)\n",
    "\n",
    "      for (k in 1:(ncol(X))){ # loop through variables\n",
    "        validar_rand  <- val_X\n",
    "        kappp = c()\n",
    "         for (j in 1:10){ # 10 random replaces per variable\n",
    "             validar_rand[,k]  <- runif(nrow(validar_rand), min=min(validar_rand[,k]), max=max(validar_rand[,k]))\n",
    "             pred_rand <- predict(PLS, validar_rand)\n",
    "             mat_pls_rand <- confusionMatrix(pred_rand, val_Y)\n",
    "             kappp[j] <- mat_pls_rand$overall[2]\n",
    "          }\n",
    "        # delta kappa\n",
    "        kappa[i,k] <- mat_pls$overall[2] - median(kappp)\n",
    "      }\n",
    "    setTxtProgressBar(pb, i)\n",
    "    }\n",
    "    close(pb)\n",
    "    return(kappa)\n",
    "}\n"
   ]
  },
  {
   "cell_type": "code",
   "execution_count": 47,
   "metadata": {
    "tags": []
   },
   "outputs": [
    {
     "data": {
      "text/html": [
       "<table>\n",
       "<caption>A matrix: 6 × 22 of type dbl</caption>\n",
       "<thead>\n",
       "\t<tr><th scope=col>rmse_all</th><th scope=col>rmse_sos</th><th scope=col>rmse_pos</th><th scope=col>rmse_eos</th><th scope=col>SOS</th><th scope=col>POS</th><th scope=col>EOS</th><th scope=col>vSOS</th><th scope=col>vPOS</th><th scope=col>vEOS</th><th scope=col>⋯</th><th scope=col>MAU</th><th scope=col>vMSP</th><th scope=col>vMAU</th><th scope=col>AOS</th><th scope=col>IOS</th><th scope=col>ROG</th><th scope=col>ROS</th><th scope=col>SW</th><th scope=col>dem</th><th scope=col>tpi</th></tr>\n",
       "</thead>\n",
       "<tbody>\n",
       "\t<tr><td>0</td><td>0.11664096</td><td>0</td><td>0.06303260</td><td> 0.001455390</td><td> 0.0027771705</td><td>0.03260034</td><td>0.032152616</td><td> 0.07479183</td><td> 0.038905916</td><td>⋯</td><td>0.036539659</td><td> 0.02563283</td><td> 0.0197690933</td><td> 0.017256327</td><td> 0.048616105</td><td> 0.0131564570</td><td> 0.0034352910</td><td>0</td><td> 0.1026652138</td><td> 0.009670737</td></tr>\n",
       "\t<tr><td>0</td><td>0.08532785</td><td>0</td><td>0.07398044</td><td>-0.002058666</td><td> 0.0007198182</td><td>0.01517574</td><td>0.067598540</td><td> 0.00857331</td><td> 0.054448155</td><td>⋯</td><td>0.036011916</td><td> 0.02395762</td><td> 0.0211360507</td><td> 0.012109659</td><td> 0.015453912</td><td> 0.0044630622</td><td>-0.0038495049</td><td>0</td><td> 0.1266486407</td><td>-0.003973597</td></tr>\n",
       "\t<tr><td>0</td><td>0.01113623</td><td>0</td><td>0.08632161</td><td>-0.003916544</td><td>-0.0034311816</td><td>0.03110538</td><td>0.009512971</td><td> 0.04006427</td><td> 0.004603652</td><td>⋯</td><td>0.031017700</td><td> 0.02111652</td><td>-0.0011759590</td><td>-0.014654187</td><td>-0.006827745</td><td> 0.0051667074</td><td>-0.0003249955</td><td>0</td><td> 0.0490917194</td><td>-0.002237209</td></tr>\n",
       "\t<tr><td>0</td><td>0.02599871</td><td>0</td><td>0.07030370</td><td>-0.006548632</td><td>-0.0079497252</td><td>0.01818191</td><td>0.007140993</td><td> 0.02607374</td><td> 0.007121635</td><td>⋯</td><td>0.024371651</td><td> 0.02455181</td><td> 0.0003992754</td><td> 0.001719119</td><td> 0.008248814</td><td> 0.0138065055</td><td> 0.0002866756</td><td>0</td><td> 0.0231714051</td><td> 0.007611016</td></tr>\n",
       "\t<tr><td>0</td><td>0.08592318</td><td>0</td><td>0.11834059</td><td>-0.005011414</td><td>-0.0068312307</td><td>0.02594995</td><td>0.025264037</td><td> 0.06197196</td><td> 0.022537338</td><td>⋯</td><td>0.031038627</td><td> 0.02886425</td><td> 0.0241119714</td><td> 0.002907806</td><td> 0.005769260</td><td> 0.0088533187</td><td> 0.0019109190</td><td>0</td><td> 0.0862656454</td><td> 0.001328071</td></tr>\n",
       "\t<tr><td>0</td><td>0.02685559</td><td>0</td><td>0.03079753</td><td>-0.011392703</td><td>-0.0141140052</td><td>0.01200963</td><td>0.017201486</td><td>-0.02947023</td><td>-0.023700400</td><td>⋯</td><td>0.009661724</td><td>-0.01045916</td><td> 0.0058064708</td><td>-0.015447474</td><td>-0.025393629</td><td>-0.0002695824</td><td>-0.0018966852</td><td>0</td><td>-0.0004394935</td><td>-0.003683683</td></tr>\n",
       "</tbody>\n",
       "</table>\n"
      ],
      "text/latex": [
       "A matrix: 6 × 22 of type dbl\n",
       "\\begin{tabular}{lllllllllllllllllllll}\n",
       " rmse\\_all & rmse\\_sos & rmse\\_pos & rmse\\_eos & SOS & POS & EOS & vSOS & vPOS & vEOS & ⋯ & MAU & vMSP & vMAU & AOS & IOS & ROG & ROS & SW & dem & tpi\\\\\n",
       "\\hline\n",
       "\t 0 & 0.11664096 & 0 & 0.06303260 &  0.001455390 &  0.0027771705 & 0.03260034 & 0.032152616 &  0.07479183 &  0.038905916 & ⋯ & 0.036539659 &  0.02563283 &  0.0197690933 &  0.017256327 &  0.048616105 &  0.0131564570 &  0.0034352910 & 0 &  0.1026652138 &  0.009670737\\\\\n",
       "\t 0 & 0.08532785 & 0 & 0.07398044 & -0.002058666 &  0.0007198182 & 0.01517574 & 0.067598540 &  0.00857331 &  0.054448155 & ⋯ & 0.036011916 &  0.02395762 &  0.0211360507 &  0.012109659 &  0.015453912 &  0.0044630622 & -0.0038495049 & 0 &  0.1266486407 & -0.003973597\\\\\n",
       "\t 0 & 0.01113623 & 0 & 0.08632161 & -0.003916544 & -0.0034311816 & 0.03110538 & 0.009512971 &  0.04006427 &  0.004603652 & ⋯ & 0.031017700 &  0.02111652 & -0.0011759590 & -0.014654187 & -0.006827745 &  0.0051667074 & -0.0003249955 & 0 &  0.0490917194 & -0.002237209\\\\\n",
       "\t 0 & 0.02599871 & 0 & 0.07030370 & -0.006548632 & -0.0079497252 & 0.01818191 & 0.007140993 &  0.02607374 &  0.007121635 & ⋯ & 0.024371651 &  0.02455181 &  0.0003992754 &  0.001719119 &  0.008248814 &  0.0138065055 &  0.0002866756 & 0 &  0.0231714051 &  0.007611016\\\\\n",
       "\t 0 & 0.08592318 & 0 & 0.11834059 & -0.005011414 & -0.0068312307 & 0.02594995 & 0.025264037 &  0.06197196 &  0.022537338 & ⋯ & 0.031038627 &  0.02886425 &  0.0241119714 &  0.002907806 &  0.005769260 &  0.0088533187 &  0.0019109190 & 0 &  0.0862656454 &  0.001328071\\\\\n",
       "\t 0 & 0.02685559 & 0 & 0.03079753 & -0.011392703 & -0.0141140052 & 0.01200963 & 0.017201486 & -0.02947023 & -0.023700400 & ⋯ & 0.009661724 & -0.01045916 &  0.0058064708 & -0.015447474 & -0.025393629 & -0.0002695824 & -0.0018966852 & 0 & -0.0004394935 & -0.003683683\\\\\n",
       "\\end{tabular}\n"
      ],
      "text/markdown": [
       "\n",
       "A matrix: 6 × 22 of type dbl\n",
       "\n",
       "| rmse_all | rmse_sos | rmse_pos | rmse_eos | SOS | POS | EOS | vSOS | vPOS | vEOS | ⋯ | MAU | vMSP | vMAU | AOS | IOS | ROG | ROS | SW | dem | tpi |\n",
       "|---|---|---|---|---|---|---|---|---|---|---|---|---|---|---|---|---|---|---|---|---|\n",
       "| 0 | 0.11664096 | 0 | 0.06303260 |  0.001455390 |  0.0027771705 | 0.03260034 | 0.032152616 |  0.07479183 |  0.038905916 | ⋯ | 0.036539659 |  0.02563283 |  0.0197690933 |  0.017256327 |  0.048616105 |  0.0131564570 |  0.0034352910 | 0 |  0.1026652138 |  0.009670737 |\n",
       "| 0 | 0.08532785 | 0 | 0.07398044 | -0.002058666 |  0.0007198182 | 0.01517574 | 0.067598540 |  0.00857331 |  0.054448155 | ⋯ | 0.036011916 |  0.02395762 |  0.0211360507 |  0.012109659 |  0.015453912 |  0.0044630622 | -0.0038495049 | 0 |  0.1266486407 | -0.003973597 |\n",
       "| 0 | 0.01113623 | 0 | 0.08632161 | -0.003916544 | -0.0034311816 | 0.03110538 | 0.009512971 |  0.04006427 |  0.004603652 | ⋯ | 0.031017700 |  0.02111652 | -0.0011759590 | -0.014654187 | -0.006827745 |  0.0051667074 | -0.0003249955 | 0 |  0.0490917194 | -0.002237209 |\n",
       "| 0 | 0.02599871 | 0 | 0.07030370 | -0.006548632 | -0.0079497252 | 0.01818191 | 0.007140993 |  0.02607374 |  0.007121635 | ⋯ | 0.024371651 |  0.02455181 |  0.0003992754 |  0.001719119 |  0.008248814 |  0.0138065055 |  0.0002866756 | 0 |  0.0231714051 |  0.007611016 |\n",
       "| 0 | 0.08592318 | 0 | 0.11834059 | -0.005011414 | -0.0068312307 | 0.02594995 | 0.025264037 |  0.06197196 |  0.022537338 | ⋯ | 0.031038627 |  0.02886425 |  0.0241119714 |  0.002907806 |  0.005769260 |  0.0088533187 |  0.0019109190 | 0 |  0.0862656454 |  0.001328071 |\n",
       "| 0 | 0.02685559 | 0 | 0.03079753 | -0.011392703 | -0.0141140052 | 0.01200963 | 0.017201486 | -0.02947023 | -0.023700400 | ⋯ | 0.009661724 | -0.01045916 |  0.0058064708 | -0.015447474 | -0.025393629 | -0.0002695824 | -0.0018966852 | 0 | -0.0004394935 | -0.003683683 |\n",
       "\n"
      ],
      "text/plain": [
       "     rmse_all rmse_sos   rmse_pos rmse_eos   SOS          POS          \n",
       "[1,] 0        0.11664096 0        0.06303260  0.001455390  0.0027771705\n",
       "[2,] 0        0.08532785 0        0.07398044 -0.002058666  0.0007198182\n",
       "[3,] 0        0.01113623 0        0.08632161 -0.003916544 -0.0034311816\n",
       "[4,] 0        0.02599871 0        0.07030370 -0.006548632 -0.0079497252\n",
       "[5,] 0        0.08592318 0        0.11834059 -0.005011414 -0.0068312307\n",
       "[6,] 0        0.02685559 0        0.03079753 -0.011392703 -0.0141140052\n",
       "     EOS        vSOS        vPOS        vEOS         ⋯ MAU         vMSP       \n",
       "[1,] 0.03260034 0.032152616  0.07479183  0.038905916 ⋯ 0.036539659  0.02563283\n",
       "[2,] 0.01517574 0.067598540  0.00857331  0.054448155 ⋯ 0.036011916  0.02395762\n",
       "[3,] 0.03110538 0.009512971  0.04006427  0.004603652 ⋯ 0.031017700  0.02111652\n",
       "[4,] 0.01818191 0.007140993  0.02607374  0.007121635 ⋯ 0.024371651  0.02455181\n",
       "[5,] 0.02594995 0.025264037  0.06197196  0.022537338 ⋯ 0.031038627  0.02886425\n",
       "[6,] 0.01200963 0.017201486 -0.02947023 -0.023700400 ⋯ 0.009661724 -0.01045916\n",
       "     vMAU          AOS          IOS          ROG           ROS           SW\n",
       "[1,]  0.0197690933  0.017256327  0.048616105  0.0131564570  0.0034352910 0 \n",
       "[2,]  0.0211360507  0.012109659  0.015453912  0.0044630622 -0.0038495049 0 \n",
       "[3,] -0.0011759590 -0.014654187 -0.006827745  0.0051667074 -0.0003249955 0 \n",
       "[4,]  0.0003992754  0.001719119  0.008248814  0.0138065055  0.0002866756 0 \n",
       "[5,]  0.0241119714  0.002907806  0.005769260  0.0088533187  0.0019109190 0 \n",
       "[6,]  0.0058064708 -0.015447474 -0.025393629 -0.0002695824 -0.0018966852 0 \n",
       "     dem           tpi         \n",
       "[1,]  0.1026652138  0.009670737\n",
       "[2,]  0.1266486407 -0.003973597\n",
       "[3,]  0.0490917194 -0.002237209\n",
       "[4,]  0.0231714051  0.007611016\n",
       "[5,]  0.0862656454  0.001328071\n",
       "[6,] -0.0004394935 -0.003683683"
      ]
     },
     "metadata": {},
     "output_type": "display_data"
    }
   ],
   "source": [
    "imp_veg = relPLSimp(X=all[,3:ncol(all)], Y=all$vegclass, ncomp=10, iter = 100)\n",
    "head(imp_veg)"
   ]
  },
  {
   "cell_type": "code",
   "execution_count": 49,
   "metadata": {},
   "outputs": [
    {
     "data": {
      "text/html": [
       "<table>\n",
       "<caption>A matrix: 6 × 22 of type dbl</caption>\n",
       "<thead>\n",
       "\t<tr><th scope=col>rmse_all</th><th scope=col>rmse_sos</th><th scope=col>rmse_pos</th><th scope=col>rmse_eos</th><th scope=col>SOS</th><th scope=col>POS</th><th scope=col>EOS</th><th scope=col>vSOS</th><th scope=col>vPOS</th><th scope=col>vEOS</th><th scope=col>⋯</th><th scope=col>MAU</th><th scope=col>vMSP</th><th scope=col>vMAU</th><th scope=col>AOS</th><th scope=col>IOS</th><th scope=col>ROG</th><th scope=col>ROS</th><th scope=col>SW</th><th scope=col>dem</th><th scope=col>tpi</th></tr>\n",
       "</thead>\n",
       "<tbody>\n",
       "\t<tr><td>0</td><td>-2.410845e-03</td><td>0.00000000</td><td>0.01946032</td><td> 4.702982e-05</td><td> 0.000000e+00</td><td> 0.000000e+00</td><td>0.3152352</td><td>0.09125288</td><td>0.2345873</td><td>⋯</td><td> 1.333822e-03</td><td>0.04430979</td><td>0.2005516</td><td>0.07267165</td><td>0.3357145</td><td> 0.000000000</td><td> 0.000000e+00</td><td>0</td><td>0.04135657</td><td> 0.000000e+00</td></tr>\n",
       "\t<tr><td>0</td><td> 4.733820e-05</td><td>0.00000000</td><td>0.01436755</td><td> 0.000000e+00</td><td> 0.000000e+00</td><td> 0.000000e+00</td><td>0.3182340</td><td>0.10638114</td><td>0.2938048</td><td>⋯</td><td> 6.215432e-05</td><td>0.03733832</td><td>0.1929063</td><td>0.08764061</td><td>0.3520984</td><td>-0.001435797</td><td> 0.000000e+00</td><td>0</td><td>0.13764435</td><td> 1.465286e-03</td></tr>\n",
       "\t<tr><td>0</td><td> 1.324120e-03</td><td>0.00000000</td><td>0.01415877</td><td> 0.000000e+00</td><td> 1.428297e-03</td><td> 0.000000e+00</td><td>0.3906313</td><td>0.13785955</td><td>0.2723632</td><td>⋯</td><td>-1.419075e-03</td><td>0.04625161</td><td>0.1684678</td><td>0.08548768</td><td>0.3691377</td><td> 0.000000000</td><td> 0.000000e+00</td><td>0</td><td>0.11467356</td><td> 0.000000e+00</td></tr>\n",
       "\t<tr><td>0</td><td> 2.038112e-05</td><td>0.00000000</td><td>0.04133432</td><td> 1.456045e-03</td><td> 2.894619e-03</td><td> 1.569597e-03</td><td>0.3335947</td><td>0.09981954</td><td>0.2491051</td><td>⋯</td><td> 1.370952e-03</td><td>0.09915044</td><td>0.1814913</td><td>0.08556634</td><td>0.3623017</td><td> 0.000000000</td><td> 4.076224e-05</td><td>0</td><td>0.01637113</td><td> 4.076224e-05</td></tr>\n",
       "\t<tr><td>0</td><td> 2.513670e-03</td><td>0.00000000</td><td>0.01409467</td><td>-1.382774e-05</td><td>-8.352813e-05</td><td>-1.382774e-05</td><td>0.3175704</td><td>0.09836348</td><td>0.2557441</td><td>⋯</td><td>-1.440996e-03</td><td>0.08072508</td><td>0.1668941</td><td>0.07359062</td><td>0.3447009</td><td> 0.000000000</td><td>-2.765452e-05</td><td>0</td><td>0.16241099</td><td>-1.447884e-03</td></tr>\n",
       "\t<tr><td>0</td><td>-2.667381e-03</td><td>0.00140396</td><td>0.05825718</td><td> 0.000000e+00</td><td> 7.872162e-04</td><td> 1.273310e-03</td><td>0.3183512</td><td>0.10279933</td><td>0.2593198</td><td>⋯</td><td> 1.439239e-03</td><td>0.10124203</td><td>0.1619844</td><td>0.06795373</td><td>0.3278748</td><td> 0.002808212</td><td> 0.000000e+00</td><td>0</td><td>0.15099132</td><td> 5.351335e-04</td></tr>\n",
       "</tbody>\n",
       "</table>\n"
      ],
      "text/latex": [
       "A matrix: 6 × 22 of type dbl\n",
       "\\begin{tabular}{lllllllllllllllllllll}\n",
       " rmse\\_all & rmse\\_sos & rmse\\_pos & rmse\\_eos & SOS & POS & EOS & vSOS & vPOS & vEOS & ⋯ & MAU & vMSP & vMAU & AOS & IOS & ROG & ROS & SW & dem & tpi\\\\\n",
       "\\hline\n",
       "\t 0 & -2.410845e-03 & 0.00000000 & 0.01946032 &  4.702982e-05 &  0.000000e+00 &  0.000000e+00 & 0.3152352 & 0.09125288 & 0.2345873 & ⋯ &  1.333822e-03 & 0.04430979 & 0.2005516 & 0.07267165 & 0.3357145 &  0.000000000 &  0.000000e+00 & 0 & 0.04135657 &  0.000000e+00\\\\\n",
       "\t 0 &  4.733820e-05 & 0.00000000 & 0.01436755 &  0.000000e+00 &  0.000000e+00 &  0.000000e+00 & 0.3182340 & 0.10638114 & 0.2938048 & ⋯ &  6.215432e-05 & 0.03733832 & 0.1929063 & 0.08764061 & 0.3520984 & -0.001435797 &  0.000000e+00 & 0 & 0.13764435 &  1.465286e-03\\\\\n",
       "\t 0 &  1.324120e-03 & 0.00000000 & 0.01415877 &  0.000000e+00 &  1.428297e-03 &  0.000000e+00 & 0.3906313 & 0.13785955 & 0.2723632 & ⋯ & -1.419075e-03 & 0.04625161 & 0.1684678 & 0.08548768 & 0.3691377 &  0.000000000 &  0.000000e+00 & 0 & 0.11467356 &  0.000000e+00\\\\\n",
       "\t 0 &  2.038112e-05 & 0.00000000 & 0.04133432 &  1.456045e-03 &  2.894619e-03 &  1.569597e-03 & 0.3335947 & 0.09981954 & 0.2491051 & ⋯ &  1.370952e-03 & 0.09915044 & 0.1814913 & 0.08556634 & 0.3623017 &  0.000000000 &  4.076224e-05 & 0 & 0.01637113 &  4.076224e-05\\\\\n",
       "\t 0 &  2.513670e-03 & 0.00000000 & 0.01409467 & -1.382774e-05 & -8.352813e-05 & -1.382774e-05 & 0.3175704 & 0.09836348 & 0.2557441 & ⋯ & -1.440996e-03 & 0.08072508 & 0.1668941 & 0.07359062 & 0.3447009 &  0.000000000 & -2.765452e-05 & 0 & 0.16241099 & -1.447884e-03\\\\\n",
       "\t 0 & -2.667381e-03 & 0.00140396 & 0.05825718 &  0.000000e+00 &  7.872162e-04 &  1.273310e-03 & 0.3183512 & 0.10279933 & 0.2593198 & ⋯ &  1.439239e-03 & 0.10124203 & 0.1619844 & 0.06795373 & 0.3278748 &  0.002808212 &  0.000000e+00 & 0 & 0.15099132 &  5.351335e-04\\\\\n",
       "\\end{tabular}\n"
      ],
      "text/markdown": [
       "\n",
       "A matrix: 6 × 22 of type dbl\n",
       "\n",
       "| rmse_all | rmse_sos | rmse_pos | rmse_eos | SOS | POS | EOS | vSOS | vPOS | vEOS | ⋯ | MAU | vMSP | vMAU | AOS | IOS | ROG | ROS | SW | dem | tpi |\n",
       "|---|---|---|---|---|---|---|---|---|---|---|---|---|---|---|---|---|---|---|---|---|\n",
       "| 0 | -2.410845e-03 | 0.00000000 | 0.01946032 |  4.702982e-05 |  0.000000e+00 |  0.000000e+00 | 0.3152352 | 0.09125288 | 0.2345873 | ⋯ |  1.333822e-03 | 0.04430979 | 0.2005516 | 0.07267165 | 0.3357145 |  0.000000000 |  0.000000e+00 | 0 | 0.04135657 |  0.000000e+00 |\n",
       "| 0 |  4.733820e-05 | 0.00000000 | 0.01436755 |  0.000000e+00 |  0.000000e+00 |  0.000000e+00 | 0.3182340 | 0.10638114 | 0.2938048 | ⋯ |  6.215432e-05 | 0.03733832 | 0.1929063 | 0.08764061 | 0.3520984 | -0.001435797 |  0.000000e+00 | 0 | 0.13764435 |  1.465286e-03 |\n",
       "| 0 |  1.324120e-03 | 0.00000000 | 0.01415877 |  0.000000e+00 |  1.428297e-03 |  0.000000e+00 | 0.3906313 | 0.13785955 | 0.2723632 | ⋯ | -1.419075e-03 | 0.04625161 | 0.1684678 | 0.08548768 | 0.3691377 |  0.000000000 |  0.000000e+00 | 0 | 0.11467356 |  0.000000e+00 |\n",
       "| 0 |  2.038112e-05 | 0.00000000 | 0.04133432 |  1.456045e-03 |  2.894619e-03 |  1.569597e-03 | 0.3335947 | 0.09981954 | 0.2491051 | ⋯ |  1.370952e-03 | 0.09915044 | 0.1814913 | 0.08556634 | 0.3623017 |  0.000000000 |  4.076224e-05 | 0 | 0.01637113 |  4.076224e-05 |\n",
       "| 0 |  2.513670e-03 | 0.00000000 | 0.01409467 | -1.382774e-05 | -8.352813e-05 | -1.382774e-05 | 0.3175704 | 0.09836348 | 0.2557441 | ⋯ | -1.440996e-03 | 0.08072508 | 0.1668941 | 0.07359062 | 0.3447009 |  0.000000000 | -2.765452e-05 | 0 | 0.16241099 | -1.447884e-03 |\n",
       "| 0 | -2.667381e-03 | 0.00140396 | 0.05825718 |  0.000000e+00 |  7.872162e-04 |  1.273310e-03 | 0.3183512 | 0.10279933 | 0.2593198 | ⋯ |  1.439239e-03 | 0.10124203 | 0.1619844 | 0.06795373 | 0.3278748 |  0.002808212 |  0.000000e+00 | 0 | 0.15099132 |  5.351335e-04 |\n",
       "\n"
      ],
      "text/plain": [
       "     rmse_all rmse_sos      rmse_pos   rmse_eos   SOS           POS          \n",
       "[1,] 0        -2.410845e-03 0.00000000 0.01946032  4.702982e-05  0.000000e+00\n",
       "[2,] 0         4.733820e-05 0.00000000 0.01436755  0.000000e+00  0.000000e+00\n",
       "[3,] 0         1.324120e-03 0.00000000 0.01415877  0.000000e+00  1.428297e-03\n",
       "[4,] 0         2.038112e-05 0.00000000 0.04133432  1.456045e-03  2.894619e-03\n",
       "[5,] 0         2.513670e-03 0.00000000 0.01409467 -1.382774e-05 -8.352813e-05\n",
       "[6,] 0        -2.667381e-03 0.00140396 0.05825718  0.000000e+00  7.872162e-04\n",
       "     EOS           vSOS      vPOS       vEOS      ⋯ MAU           vMSP      \n",
       "[1,]  0.000000e+00 0.3152352 0.09125288 0.2345873 ⋯  1.333822e-03 0.04430979\n",
       "[2,]  0.000000e+00 0.3182340 0.10638114 0.2938048 ⋯  6.215432e-05 0.03733832\n",
       "[3,]  0.000000e+00 0.3906313 0.13785955 0.2723632 ⋯ -1.419075e-03 0.04625161\n",
       "[4,]  1.569597e-03 0.3335947 0.09981954 0.2491051 ⋯  1.370952e-03 0.09915044\n",
       "[5,] -1.382774e-05 0.3175704 0.09836348 0.2557441 ⋯ -1.440996e-03 0.08072508\n",
       "[6,]  1.273310e-03 0.3183512 0.10279933 0.2593198 ⋯  1.439239e-03 0.10124203\n",
       "     vMAU      AOS        IOS       ROG          ROS           SW dem       \n",
       "[1,] 0.2005516 0.07267165 0.3357145  0.000000000  0.000000e+00 0  0.04135657\n",
       "[2,] 0.1929063 0.08764061 0.3520984 -0.001435797  0.000000e+00 0  0.13764435\n",
       "[3,] 0.1684678 0.08548768 0.3691377  0.000000000  0.000000e+00 0  0.11467356\n",
       "[4,] 0.1814913 0.08556634 0.3623017  0.000000000  4.076224e-05 0  0.01637113\n",
       "[5,] 0.1668941 0.07359062 0.3447009  0.000000000 -2.765452e-05 0  0.16241099\n",
       "[6,] 0.1619844 0.06795373 0.3278748  0.002808212  0.000000e+00 0  0.15099132\n",
       "     tpi          \n",
       "[1,]  0.000000e+00\n",
       "[2,]  1.465286e-03\n",
       "[3,]  0.000000e+00\n",
       "[4,]  4.076224e-05\n",
       "[5,] -1.447884e-03\n",
       "[6,]  5.351335e-04"
      ]
     },
     "metadata": {},
     "output_type": "display_data"
    }
   ],
   "source": [
    "imp_clust = relPLSimp(X=all[,3:ncol(all)], Y=all$clusters, ncomp=7, iter = 100)\n",
    "head(imp_clust)"
   ]
  },
  {
   "cell_type": "code",
   "execution_count": 35,
   "metadata": {},
   "outputs": [],
   "source": [
    "save(imp_veg, file='plsImp_veg.RData')\n",
    "save(imp_clust, file='plsImp_clust.RData')"
   ]
  },
  {
   "cell_type": "code",
   "execution_count": 36,
   "metadata": {},
   "outputs": [],
   "source": [
    "write.csv(imp_veg, file='imp_veg.csv')\n",
    "write.csv(imp_clust, file='imp_clust.csv')"
   ]
  },
  {
   "cell_type": "code",
   "execution_count": 1,
   "metadata": {},
   "outputs": [],
   "source": [
    "# load data\n",
    "load(file='plsImp_veg.RData')\n",
    "load(file='plsImp_clust.RData')\n",
    "load('mrpp.RData')"
   ]
  },
  {
   "cell_type": "code",
   "execution_count": 26,
   "metadata": {},
   "outputs": [
    {
     "name": "stderr",
     "output_type": "stream",
     "text": [
      "Warning message in pre_process_options(method, column_types):\n",
      "“The following pre-processing methods were eliminated: 'ignore'”\n",
      "Warning message in fitFunc(X, Y, ncomp, Y.add = Y.add, center = center, ...):\n",
      "“No convergence in 100 iterations\n",
      "”\n"
     ]
    },
    {
     "data": {
      "text/html": [
       "<strong>png:</strong> 2"
      ],
      "text/latex": [
       "\\textbf{png:} 2"
      ],
      "text/markdown": [
       "**png:** 2"
      ],
      "text/plain": [
       "png \n",
       "  2 "
      ]
     },
     "metadata": {},
     "output_type": "display_data"
    }
   ],
   "source": [
    "# variable importance\n",
    "PLS_veg2 <- update(PLS_veg, param = list(ncomp = 10))\n",
    "plscf <- as.vector(rowMeans(PLS_veg2$finalModel$coefficients)) ## extract coeff.\n",
    "plscf <- plscf / sd (plscf) ## scale regression coefficients\n",
    "\n",
    "svg('Figures/imp_veg_coeff.svg', width = 10, height = 5)\n",
    "barplot(plscf, las=1)\n",
    "dev.off()"
   ]
  },
  {
   "cell_type": "code",
   "execution_count": 27,
   "metadata": {},
   "outputs": [
    {
     "data": {
      "text/html": [
       "<style>\n",
       ".dl-inline {width: auto; margin:0; padding: 0}\n",
       ".dl-inline>dt, .dl-inline>dd {float: none; width: auto; display: inline-block}\n",
       ".dl-inline>dt::after {content: \":\\0020\"; padding-right: .5ex}\n",
       ".dl-inline>dt:not(:first-of-type) {padding-left: .5ex}\n",
       "</style><dl class=dl-inline><dt>rmse_all</dt><dd>0</dd><dt>rmse_sos</dt><dd>0.0517691811705013</dd><dt>rmse_pos</dt><dd>0</dd><dt>rmse_eos</dt><dd>0.0630292235046974</dd><dt>SOS</dt><dd>-0.00395596232694102</dd><dt>POS</dt><dd>-0.00647947813538712</dd><dt>EOS</dt><dd>0.025508146453631</dd><dt>vSOS</dt><dd>0.0305279455472684</dd><dt>vPOS</dt><dd>0.0131104360135047</dd><dt>vEOS</dt><dd>-0.00653047787679813</dd><dt>LOS</dt><dd>0</dd><dt>MSP</dt><dd>0.000152281050145697</dd><dt>MAU</dt><dd>0.0256104128649645</dd><dt>vMSP</dt><dd>0.0149394617426301</dd><dt>vMAU</dt><dd>0.00380231964506111</dd><dt>AOS</dt><dd>0.00340731946494201</dd><dt>IOS</dt><dd>0.00249157505749291</dd><dt>ROG</dt><dd>0.00794659080801761</dd><dt>ROS</dt><dd>0.000353193154629214</dd><dt>SW</dt><dd>0</dd><dt>dem</dt><dd>0.0733538134094613</dd><dt>tpi</dt><dd>-0.000120237995558978</dd></dl>\n"
      ],
      "text/latex": [
       "\\begin{description*}\n",
       "\\item[rmse\\textbackslash{}\\_all] 0\n",
       "\\item[rmse\\textbackslash{}\\_sos] 0.0517691811705013\n",
       "\\item[rmse\\textbackslash{}\\_pos] 0\n",
       "\\item[rmse\\textbackslash{}\\_eos] 0.0630292235046974\n",
       "\\item[SOS] -0.00395596232694102\n",
       "\\item[POS] -0.00647947813538712\n",
       "\\item[EOS] 0.025508146453631\n",
       "\\item[vSOS] 0.0305279455472684\n",
       "\\item[vPOS] 0.0131104360135047\n",
       "\\item[vEOS] -0.00653047787679813\n",
       "\\item[LOS] 0\n",
       "\\item[MSP] 0.000152281050145697\n",
       "\\item[MAU] 0.0256104128649645\n",
       "\\item[vMSP] 0.0149394617426301\n",
       "\\item[vMAU] 0.00380231964506111\n",
       "\\item[AOS] 0.00340731946494201\n",
       "\\item[IOS] 0.00249157505749291\n",
       "\\item[ROG] 0.00794659080801761\n",
       "\\item[ROS] 0.000353193154629214\n",
       "\\item[SW] 0\n",
       "\\item[dem] 0.0733538134094613\n",
       "\\item[tpi] -0.000120237995558978\n",
       "\\end{description*}\n"
      ],
      "text/markdown": [
       "rmse_all\n",
       ":   0rmse_sos\n",
       ":   0.0517691811705013rmse_pos\n",
       ":   0rmse_eos\n",
       ":   0.0630292235046974SOS\n",
       ":   -0.00395596232694102POS\n",
       ":   -0.00647947813538712EOS\n",
       ":   0.025508146453631vSOS\n",
       ":   0.0305279455472684vPOS\n",
       ":   0.0131104360135047vEOS\n",
       ":   -0.00653047787679813LOS\n",
       ":   0MSP\n",
       ":   0.000152281050145697MAU\n",
       ":   0.0256104128649645vMSP\n",
       ":   0.0149394617426301vMAU\n",
       ":   0.00380231964506111AOS\n",
       ":   0.00340731946494201IOS\n",
       ":   0.00249157505749291ROG\n",
       ":   0.00794659080801761ROS\n",
       ":   0.000353193154629214SW\n",
       ":   0dem\n",
       ":   0.0733538134094613tpi\n",
       ":   -0.000120237995558978\n",
       "\n"
      ],
      "text/plain": [
       "     rmse_all      rmse_sos      rmse_pos      rmse_eos           SOS \n",
       " 0.0000000000  0.0517691812  0.0000000000  0.0630292235 -0.0039559623 \n",
       "          POS           EOS          vSOS          vPOS          vEOS \n",
       "-0.0064794781  0.0255081465  0.0305279455  0.0131104360 -0.0065304779 \n",
       "          LOS           MSP           MAU          vMSP          vMAU \n",
       " 0.0000000000  0.0001522811  0.0256104129  0.0149394617  0.0038023196 \n",
       "          AOS           IOS           ROG           ROS            SW \n",
       " 0.0034073195  0.0024915751  0.0079465908  0.0003531932  0.0000000000 \n",
       "          dem           tpi \n",
       " 0.0733538134 -0.0001202380 "
      ]
     },
     "metadata": {},
     "output_type": "display_data"
    }
   ],
   "source": [
    "apply(imp_veg,2,median)"
   ]
  },
  {
   "cell_type": "code",
   "execution_count": 3,
   "metadata": {},
   "outputs": [
    {
     "data": {
      "image/png": "[encoded data removed]",
      "text/plain": [
       "plot without title"
      ]
     },
     "metadata": {
      "image/png": {
       "height": 420,
       "width": 420
      }
     },
     "output_type": "display_data"
    }
   ],
   "source": [
    "# svg('img_veg.svg', width = 12, height = 3)\n",
    "boxplot(imp_veg, col='gray', outline=FALSE, las=2)\n",
    "abline(0,0)\n",
    "# dev.off()"
   ]
  },
  {
   "cell_type": "code",
   "execution_count": 45,
   "metadata": {},
   "outputs": [
    {
     "data": {
      "text/html": [
       "<strong>png:</strong> 2"
      ],
      "text/latex": [
       "\\textbf{png:} 2"
      ],
      "text/markdown": [
       "**png:** 2"
      ],
      "text/plain": [
       "png \n",
       "  2 "
      ]
     },
     "metadata": {},
     "output_type": "display_data"
    }
   ],
   "source": [
    "svg('imp_veg_matrix.svg')\n",
    "varImp(apply(imp_veg,2,median))\n",
    "dev.off()"
   ]
  },
  {
   "cell_type": "code",
   "execution_count": 4,
   "metadata": {},
   "outputs": [
    {
     "data": {
      "image/png": "[encoded data removed]",
      "text/plain": [
       "plot without title"
      ]
     },
     "metadata": {
      "image/png": {
       "height": 420,
       "width": 420
      }
     },
     "output_type": "display_data"
    }
   ],
   "source": [
    "# svg('img_clust.svg', width = 12, height = 3)\n",
    "boxplot(imp_clust, col='gray', outline=FALSE, las=2)\n",
    "abline(0,0)\n",
    "# dev.off()"
   ]
  },
  {
   "cell_type": "code",
   "execution_count": 46,
   "metadata": {},
   "outputs": [
    {
     "data": {
      "text/html": [
       "<strong>png:</strong> 2"
      ],
      "text/latex": [
       "\\textbf{png:} 2"
      ],
      "text/markdown": [
       "**png:** 2"
      ],
      "text/plain": [
       "png \n",
       "  2 "
      ]
     },
     "metadata": {},
     "output_type": "display_data"
    }
   ],
   "source": [
    "svg('imp_clust_matrix.svg')\n",
    "varImp(apply(imp_clust,2,median))\n",
    "dev.off()"
   ]
  },
  {
   "cell_type": "code",
   "execution_count": null,
   "metadata": {},
   "outputs": [],
   "source": []
  },
  {
   "cell_type": "code",
   "execution_count": 54,
   "metadata": {},
   "outputs": [
    {
     "data": {
      "image/png": "[encoded data removed]",
      "text/plain": [
       "Plot with title “”"
      ]
     },
     "metadata": {
      "image/png": {
       "height": 420,
       "width": 420
      }
     },
     "output_type": "display_data"
    }
   ],
   "source": [
    "require(plspm)\n",
    "\n",
    "## Set the inner model\n",
    "# rows of the inner model matrix\n",
    "DEM   = c(0, 0, 0, 0)\n",
    "PFT   = c(1, 0, 0, 0)\n",
    "LSP   = c(1, 1, 0, 0)\n",
    "RMSE = c(1, 1, 1, 0)\n",
    "\n",
    "# matrix created by row binding. Creación de las variables latentes(Agrupaciones ficticias de las variables respuesta y predictoras)\n",
    "inner = rbind(DEM, PFT, LSP, RMSE)\n",
    "\n",
    "# add column names (optional)\n",
    "colnames(inner) = rownames(inner)\n",
    "\n",
    "# plot the inner matrix\n",
    "innerplot(inner)"
   ]
  },
  {
   "cell_type": "code",
   "execution_count": 56,
   "metadata": {},
   "outputs": [
    {
     "data": {
      "text/html": [
       "<style>\n",
       ".list-inline {list-style: none; margin:0; padding: 0}\n",
       ".list-inline>li {display: inline-block}\n",
       ".list-inline>li:not(:last-child)::after {content: \"\\00b7\"; padding: 0 .5ex}\n",
       "</style>\n",
       "<ol class=list-inline><li>'vegclass'</li><li>'clusters'</li><li>'rmse_all'</li><li>'rmse_sos'</li><li>'rmse_pos'</li><li>'rmse_eos'</li><li>'SOS'</li><li>'POS'</li><li>'EOS'</li><li>'vSOS'</li><li>'vPOS'</li><li>'vEOS'</li><li>'LOS'</li><li>'MSP'</li><li>'MAU'</li><li>'vMSP'</li><li>'vMAU'</li><li>'AOS'</li><li>'IOS'</li><li>'ROG'</li><li>'ROS'</li><li>'SW'</li><li>'dem'</li><li>'tpi'</li></ol>\n"
      ],
      "text/latex": [
       "\\begin{enumerate*}\n",
       "\\item 'vegclass'\n",
       "\\item 'clusters'\n",
       "\\item 'rmse\\_all'\n",
       "\\item 'rmse\\_sos'\n",
       "\\item 'rmse\\_pos'\n",
       "\\item 'rmse\\_eos'\n",
       "\\item 'SOS'\n",
       "\\item 'POS'\n",
       "\\item 'EOS'\n",
       "\\item 'vSOS'\n",
       "\\item 'vPOS'\n",
       "\\item 'vEOS'\n",
       "\\item 'LOS'\n",
       "\\item 'MSP'\n",
       "\\item 'MAU'\n",
       "\\item 'vMSP'\n",
       "\\item 'vMAU'\n",
       "\\item 'AOS'\n",
       "\\item 'IOS'\n",
       "\\item 'ROG'\n",
       "\\item 'ROS'\n",
       "\\item 'SW'\n",
       "\\item 'dem'\n",
       "\\item 'tpi'\n",
       "\\end{enumerate*}\n"
      ],
      "text/markdown": [
       "1. 'vegclass'\n",
       "2. 'clusters'\n",
       "3. 'rmse_all'\n",
       "4. 'rmse_sos'\n",
       "5. 'rmse_pos'\n",
       "6. 'rmse_eos'\n",
       "7. 'SOS'\n",
       "8. 'POS'\n",
       "9. 'EOS'\n",
       "10. 'vSOS'\n",
       "11. 'vPOS'\n",
       "12. 'vEOS'\n",
       "13. 'LOS'\n",
       "14. 'MSP'\n",
       "15. 'MAU'\n",
       "16. 'vMSP'\n",
       "17. 'vMAU'\n",
       "18. 'AOS'\n",
       "19. 'IOS'\n",
       "20. 'ROG'\n",
       "21. 'ROS'\n",
       "22. 'SW'\n",
       "23. 'dem'\n",
       "24. 'tpi'\n",
       "\n",
       "\n"
      ],
      "text/plain": [
       " [1] \"vegclass\" \"clusters\" \"rmse_all\" \"rmse_sos\" \"rmse_pos\" \"rmse_eos\"\n",
       " [7] \"SOS\"      \"POS\"      \"EOS\"      \"vSOS\"     \"vPOS\"     \"vEOS\"    \n",
       "[13] \"LOS\"      \"MSP\"      \"MAU\"      \"vMSP\"     \"vMAU\"     \"AOS\"     \n",
       "[19] \"IOS\"      \"ROG\"      \"ROS\"      \"SW\"       \"dem\"      \"tpi\"     "
      ]
     },
     "metadata": {},
     "output_type": "display_data"
    },
    {
     "data": {
      "text/html": [
       "24"
      ],
      "text/latex": [
       "24"
      ],
      "text/markdown": [
       "24"
      ],
      "text/plain": [
       "[1] 24"
      ]
     },
     "metadata": {},
     "output_type": "display_data"
    }
   ],
   "source": [
    "colnames(all)\n",
    "length(all)"
   ]
  },
  {
   "cell_type": "code",
   "execution_count": 69,
   "metadata": {},
   "outputs": [],
   "source": [
    "# Set the outer model\n",
    "modes = rep(\"A\",4)\n",
    "\n",
    "# turn variables when loading are bnegative\n",
    "# all$nEOS = -1 * all$EOS # new variable N° 25\n",
    "# all$nMAU = -1 * all$MAU # new variable N° 26\n",
    "\n",
    "# define list of indicators: what variables are associated with what latent variable: \n",
    "outer_all = list(23, 1, c(25,10,26,20), 3)\n",
    "outer_1   = list(23, 1, c(25,10,26,20), 4)\n",
    "outer_2   = list(23, 1, c(25,10,26,20), 5)\n",
    "outer_3   = list(23, 1, c(25,10,26,20), 6)"
   ]
  },
  {
   "cell_type": "code",
   "execution_count": 74,
   "metadata": {},
   "outputs": [],
   "source": [
    "### Run first try!\n",
    "pls_all = plspm(all, inner, outer_all, modes, maxiter= 1000, boot.val = TRUE,\n",
    "                br = 1000, scheme = \"factor\", scaled = T)\n",
    "\n",
    "pls_1   = plspm(all, inner, outer_1, modes, maxiter= 1000, boot.val = TRUE,\n",
    "                br = 1000, scheme = \"factor\", scaled = T)\n",
    "\n",
    "pls_2   = plspm(all, inner, outer_2, modes, maxiter= 1000, boot.val = TRUE,\n",
    "                br = 1000, scheme = \"factor\", scaled = T)\n",
    "\n",
    "pls_3   = plspm(all, inner, outer_3, modes, maxiter= 1000, boot.val = TRUE,\n",
    "                br = 1000, scheme = \"factor\", scaled = T)"
   ]
  },
  {
   "cell_type": "code",
   "execution_count": 75,
   "metadata": {},
   "outputs": [
    {
     "data": {
      "text/plain": [
       "PARTIAL LEAST SQUARES PATH MODELING (PLS-PM) \n",
       "\n",
       "---------------------------------------------------------- \n",
       "MODEL SPECIFICATION \n",
       "1   Number of Cases      2572 \n",
       "2   Latent Variables     4 \n",
       "3   Manifest Variables   7 \n",
       "4   Scale of Data        Standardized Data \n",
       "5   Non-Metric PLS       FALSE \n",
       "6   Weighting Scheme     factorial \n",
       "7   Tolerance Crit       1e-06 \n",
       "8   Max Num Iters        1000 \n",
       "9   Convergence Iters    4 \n",
       "10  Bootstrapping        TRUE \n",
       "11  Bootstrap samples    1000 \n",
       "\n",
       "---------------------------------------------------------- \n",
       "BLOCKS DEFINITION \n",
       "    Block         Type   Size   Mode\n",
       "1     DEM    Exogenous      1      A\n",
       "2     PFT   Endogenous      1      A\n",
       "3     LSP   Endogenous      4      A\n",
       "4    RMSE   Endogenous      1      A\n",
       "\n",
       "---------------------------------------------------------- \n",
       "BLOCKS UNIDIMENSIONALITY \n",
       "      Mode  MVs  C.alpha  DG.rho  eig.1st  eig.2nd\n",
       "DEM      A    1    1.000   1.000      1.0     0.00\n",
       "PFT      A    1    1.000   1.000      1.0     0.00\n",
       "LSP      A    4    0.681   0.811      2.1     0.87\n",
       "RMSE     A    1    1.000   1.000      1.0     0.00\n",
       "\n",
       "---------------------------------------------------------- \n",
       "OUTER MODEL \n",
       "              weight  loading  communality  redundancy\n",
       "DEM                                                   \n",
       "  1 dem        1.000    1.000        1.000      0.0000\n",
       "PFT                                                   \n",
       "  2 vegclass   1.000    1.000        1.000      0.0110\n",
       "LSP                                                   \n",
       "  3 nEOS       0.316    0.668        0.446      0.0678\n",
       "  3 vSOS       0.432    0.731        0.534      0.0811\n",
       "  3 nMAU       0.412    0.920        0.846      0.1286\n",
       "  3 ROG        0.187    0.502        0.252      0.0383\n",
       "RMSE                                                  \n",
       "  4 rmse_all   1.000    1.000        1.000      0.0532\n",
       "\n",
       "---------------------------------------------------------- \n",
       "CROSSLOADINGS \n",
       "                 DEM       PFT     LSP      RMSE\n",
       "DEM                                             \n",
       "  1 dem        1.000  -0.10472   0.339  -0.15636\n",
       "PFT                                             \n",
       "  2 vegclass  -0.105   1.00000  -0.227  -0.00733\n",
       "LSP                                             \n",
       "  3 nEOS       0.188  -0.11580   0.668  -0.21398\n",
       "  3 vSOS       0.368  -0.20875   0.731  -0.05251\n",
       "  3 nMAU       0.264  -0.22407   0.920  -0.16693\n",
       "  3 ROG        0.066  -0.03929   0.502  -0.23539\n",
       "RMSE                                            \n",
       "  4 rmse_all  -0.156  -0.00733  -0.203   1.00000\n",
       "\n",
       "---------------------------------------------------------- \n",
       "INNER MODEL \n",
       "$PFT\n",
       "             Estimate   Std. Error     t value   Pr(>|t|)\n",
       "Intercept    3.86e-17       0.0196    1.97e-15   1.00e+00\n",
       "DEM         -1.05e-01       0.0196   -5.34e+00   1.02e-07\n",
       "\n",
       "$LSP\n",
       "             Estimate   Std. Error     t value   Pr(>|t|)\n",
       "Intercept    2.21e-16       0.0182    1.21e-14   1.00e+00\n",
       "DEM          3.19e-01       0.0183    1.75e+01   1.29e-64\n",
       "PFT         -1.93e-01       0.0183   -1.06e+01   1.34e-25\n",
       "\n",
       "$RMSE\n",
       "             Estimate   Std. Error     t value   Pr(>|t|)\n",
       "Intercept   -1.38e-16       0.0192   -7.21e-15   1.00e+00\n",
       "DEM         -1.01e-01       0.0204   -4.93e+00   8.74e-07\n",
       "PFT         -5.92e-02       0.0197   -3.00e+00   2.71e-03\n",
       "LSP         -1.82e-01       0.0209   -8.75e+00   3.82e-18\n",
       "\n",
       "---------------------------------------------------------- \n",
       "CORRELATIONS BETWEEN LVs \n",
       "         DEM      PFT     LSP     RMSE\n",
       "DEM    1.000  -0.1047   0.339  -0.1564\n",
       "PFT   -0.105   1.0000  -0.227  -0.0073\n",
       "LSP    0.339  -0.2265   1.000  -0.2032\n",
       "RMSE  -0.156  -0.0073  -0.203   1.0000\n",
       "\n",
       "---------------------------------------------------------- \n",
       "SUMMARY INNER MODEL \n",
       "            Type      R2  Block_Communality  Mean_Redundancy   AVE\n",
       "DEM    Exogenous  0.0000               1.00           0.0000  1.00\n",
       "PFT   Endogenous  0.0110               1.00           0.0110  1.00\n",
       "LSP   Endogenous  0.1520               0.52           0.0790  0.52\n",
       "RMSE  Endogenous  0.0532               1.00           0.0532  1.00\n",
       "\n",
       "---------------------------------------------------------- \n",
       "GOODNESS-OF-FIT \n",
       "[1]  0.1935\n",
       "\n",
       "---------------------------------------------------------- \n",
       "TOTAL EFFECTS \n",
       "   relationships   direct  indirect   total\n",
       "1     DEM -> PFT  -0.1047    0.0000  -0.105\n",
       "2     DEM -> LSP   0.3190    0.0202   0.339\n",
       "3    DEM -> RMSE  -0.1007   -0.0557  -0.156\n",
       "4     PFT -> LSP  -0.1931    0.0000  -0.193\n",
       "5    PFT -> RMSE  -0.0592    0.0352  -0.024\n",
       "6    LSP -> RMSE  -0.1824    0.0000  -0.182\n",
       "\n",
       "--------------------------------------------------------- \n",
       "BOOTSTRAP VALIDATION \n",
       "weights \n",
       "               Original  Mean.Boot  Std.Error  perc.025  perc.975\n",
       "DEM-dem           1.000      1.000   1.20e-16     1.000     1.000\n",
       "PFT-vegclass      1.000      1.000   1.37e-16     1.000     1.000\n",
       "LSP-nEOS          0.316      0.312   2.41e-02     0.260     0.355\n",
       "LSP-vSOS          0.432      0.435   2.46e-02     0.393     0.489\n",
       "LSP-nMAU          0.412      0.412   9.69e-03     0.394     0.431\n",
       "LSP-ROG           0.187      0.187   2.44e-02     0.135     0.236\n",
       "RMSE-rmse_all     1.000      1.000   1.18e-16     1.000     1.000\n",
       "\n",
       "loadings \n",
       "               Original  Mean.Boot  Std.Error  perc.025  perc.975\n",
       "DEM-dem           1.000      1.000   1.11e-16     1.000     1.000\n",
       "PFT-vegclass      1.000      1.000   1.11e-16     1.000     1.000\n",
       "LSP-nEOS          0.668      0.664   2.83e-02     0.604     0.714\n",
       "LSP-vSOS          0.731      0.733   1.73e-02     0.700     0.768\n",
       "LSP-nMAU          0.920      0.918   9.26e-03     0.896     0.934\n",
       "LSP-ROG           0.502      0.502   3.06e-02     0.441     0.562\n",
       "RMSE-rmse_all     1.000      1.000   1.11e-16     1.000     1.000\n",
       "\n",
       "paths \n",
       "             Original  Mean.Boot  Std.Error  perc.025  perc.975\n",
       "DEM -> PFT    -0.1047    -0.1022     0.0254   -0.1477   -0.0478\n",
       "DEM -> LSP     0.3190     0.3222     0.0277    0.2685    0.3721\n",
       "DEM -> RMSE   -0.1007    -0.1019     0.0159   -0.1320   -0.0718\n",
       "PFT -> LSP    -0.1931    -0.1927     0.0188   -0.2280   -0.1543\n",
       "PFT -> RMSE   -0.0592    -0.0598     0.0180   -0.0944   -0.0259\n",
       "LSP -> RMSE   -0.1824    -0.1810     0.0226   -0.2224   -0.1375\n",
       "\n",
       "rsq \n",
       "      Original  Mean.Boot  Std.Error  perc.025  perc.975\n",
       "PFT     0.0110     0.0111    0.00507   0.00228    0.0218\n",
       "LSP     0.1520     0.1547    0.02006   0.11496    0.1933\n",
       "RMSE    0.0532     0.0541    0.00798   0.03968    0.0703\n",
       "\n",
       "total.efs \n",
       "             Original  Mean.Boot  Std.Error  perc.025  perc.975\n",
       "DEM -> PFT     -0.105     -0.102     0.0254    -0.148  -0.04775\n",
       "DEM -> LSP      0.339      0.342     0.0285     0.284   0.39304\n",
       "DEM -> RMSE    -0.156     -0.158     0.0139    -0.185  -0.13055\n",
       "PFT -> LSP     -0.193     -0.193     0.0188    -0.228  -0.15432\n",
       "PFT -> RMSE    -0.024     -0.025     0.0180    -0.060   0.00945\n",
       "LSP -> RMSE    -0.182     -0.181     0.0226    -0.222  -0.13748\n"
      ]
     },
     "metadata": {},
     "output_type": "display_data"
    }
   ],
   "source": [
    "summary(pls_all)"
   ]
  },
  {
   "cell_type": "code",
   "execution_count": 76,
   "metadata": {},
   "outputs": [
    {
     "data": {
      "text/plain": [
       "PARTIAL LEAST SQUARES PATH MODELING (PLS-PM) \n",
       "\n",
       "---------------------------------------------------------- \n",
       "MODEL SPECIFICATION \n",
       "1   Number of Cases      2572 \n",
       "2   Latent Variables     4 \n",
       "3   Manifest Variables   7 \n",
       "4   Scale of Data        Standardized Data \n",
       "5   Non-Metric PLS       FALSE \n",
       "6   Weighting Scheme     factorial \n",
       "7   Tolerance Crit       1e-06 \n",
       "8   Max Num Iters        1000 \n",
       "9   Convergence Iters    3 \n",
       "10  Bootstrapping        TRUE \n",
       "11  Bootstrap samples    1000 \n",
       "\n",
       "---------------------------------------------------------- \n",
       "BLOCKS DEFINITION \n",
       "    Block         Type   Size   Mode\n",
       "1     DEM    Exogenous      1      A\n",
       "2     PFT   Endogenous      1      A\n",
       "3     LSP   Endogenous      4      A\n",
       "4    RMSE   Endogenous      1      A\n",
       "\n",
       "---------------------------------------------------------- \n",
       "BLOCKS UNIDIMENSIONALITY \n",
       "      Mode  MVs  C.alpha  DG.rho  eig.1st  eig.2nd\n",
       "DEM      A    1    1.000   1.000      1.0     0.00\n",
       "PFT      A    1    1.000   1.000      1.0     0.00\n",
       "LSP      A    4    0.681   0.811      2.1     0.87\n",
       "RMSE     A    1    1.000   1.000      1.0     0.00\n",
       "\n",
       "---------------------------------------------------------- \n",
       "OUTER MODEL \n",
       "              weight  loading  communality  redundancy\n",
       "DEM                                                   \n",
       "  1 dem       1.0000    1.000        1.000     0.00000\n",
       "PFT                                                   \n",
       "  2 vegclass  1.0000    1.000        1.000     0.01097\n",
       "LSP                                                   \n",
       "  3 nEOS      0.2687    0.625        0.390     0.06568\n",
       "  3 vSOS      0.5173    0.796        0.634     0.10669\n",
       "  3 nMAU      0.4207    0.903        0.815     0.13723\n",
       "  3 ROG       0.0961    0.423        0.179     0.03012\n",
       "RMSE                                                  \n",
       "  4 rmse_sos  1.0000    1.000        1.000     0.00177\n",
       "\n",
       "---------------------------------------------------------- \n",
       "CROSSLOADINGS \n",
       "                   DEM      PFT      LSP      RMSE\n",
       "DEM                                               \n",
       "  1 dem        1.00000  -0.1047   0.3579  -0.00508\n",
       "PFT                                               \n",
       "  2 vegclass  -0.10472   1.0000  -0.2372   0.01003\n",
       "LSP                                               \n",
       "  3 nEOS       0.18760  -0.1158   0.6245  -0.00987\n",
       "  3 vSOS       0.36756  -0.2088   0.7960  -0.04548\n",
       "  3 nMAU       0.26380  -0.2241   0.9027  -0.02921\n",
       "  3 ROG        0.06601  -0.0393   0.4230  -0.02489\n",
       "RMSE                                              \n",
       "  4 rmse_sos  -0.00508   0.0100  -0.0409   1.00000\n",
       "\n",
       "---------------------------------------------------------- \n",
       "INNER MODEL \n",
       "$PFT\n",
       "             Estimate   Std. Error     t value   Pr(>|t|)\n",
       "Intercept    3.64e-17       0.0196    1.86e-15   1.00e+00\n",
       "DEM         -1.05e-01       0.0196   -5.34e+00   1.02e-07\n",
       "\n",
       "$LSP\n",
       "             Estimate   Std. Error     t value   Pr(>|t|)\n",
       "Intercept    2.03e-16       0.0180    1.13e-14   1.00e+00\n",
       "DEM          3.37e-01       0.0181    1.86e+01   1.22e-72\n",
       "PFT         -2.02e-01       0.0181   -1.12e+01   2.85e-28\n",
       "\n",
       "$RMSE\n",
       "             Estimate   Std. Error     t value   Pr(>|t|)\n",
       "Intercept    1.15e-17       0.0197    5.83e-16      1.000\n",
       "DEM          1.10e-02       0.0211    5.19e-01      0.604\n",
       "PFT          5.87e-04       0.0203    2.89e-02      0.977\n",
       "LSP         -4.46e-02       0.0216   -2.06e+00      0.039\n",
       "\n",
       "---------------------------------------------------------- \n",
       "CORRELATIONS BETWEEN LVs \n",
       "          DEM     PFT      LSP     RMSE\n",
       "DEM    1.0000  -0.105   0.3579  -0.0051\n",
       "PFT   -0.1047   1.000  -0.2372   0.0100\n",
       "LSP    0.3579  -0.237   1.0000  -0.0409\n",
       "RMSE  -0.0051   0.010  -0.0409   1.0000\n",
       "\n",
       "---------------------------------------------------------- \n",
       "SUMMARY INNER MODEL \n",
       "            Type       R2  Block_Communality  Mean_Redundancy    AVE\n",
       "DEM    Exogenous  0.00000              1.000          0.00000  1.000\n",
       "PFT   Endogenous  0.01097              1.000          0.01097  1.000\n",
       "LSP   Endogenous  0.16839              0.504          0.08493  0.504\n",
       "RMSE  Endogenous  0.00177              1.000          0.00177  1.000\n",
       "\n",
       "---------------------------------------------------------- \n",
       "GOODNESS-OF-FIT \n",
       "[1]  0.1745\n",
       "\n",
       "---------------------------------------------------------- \n",
       "TOTAL EFFECTS \n",
       "   relationships     direct  indirect     total\n",
       "1     DEM -> PFT  -0.104720   0.00000  -0.10472\n",
       "2     DEM -> LSP   0.336740   0.02114   0.35788\n",
       "3    DEM -> RMSE   0.010963  -0.01604  -0.00508\n",
       "4     PFT -> LSP  -0.201889   0.00000  -0.20189\n",
       "5    PFT -> RMSE   0.000587   0.00901   0.00960\n",
       "6    LSP -> RMSE  -0.044645   0.00000  -0.04465\n",
       "\n",
       "--------------------------------------------------------- \n",
       "BOOTSTRAP VALIDATION \n",
       "weights \n",
       "               Original  Mean.Boot  Std.Error  perc.025  perc.975\n",
       "DEM-dem          1.0000      1.000   1.18e-16    1.0000     1.000\n",
       "PFT-vegclass     1.0000      1.000   1.42e-16    1.0000     1.000\n",
       "LSP-nEOS         0.2687      0.264   3.16e-02    0.1918     0.318\n",
       "LSP-vSOS         0.5173      0.520   2.49e-02    0.4752     0.573\n",
       "LSP-nMAU         0.4207      0.420   1.07e-02    0.3981     0.440\n",
       "LSP-ROG          0.0961      0.096   2.31e-02    0.0517     0.142\n",
       "RMSE-rmse_sos    1.0000      1.000   1.31e-16    1.0000     1.000\n",
       "\n",
       "loadings \n",
       "               Original  Mean.Boot  Std.Error  perc.025  perc.975\n",
       "DEM-dem           1.000      1.000   1.11e-16     1.000     1.000\n",
       "PFT-vegclass      1.000      1.000   1.11e-16     1.000     1.000\n",
       "LSP-nEOS          0.625      0.620   3.71e-02     0.540     0.686\n",
       "LSP-vSOS          0.796      0.799   1.59e-02     0.771     0.832\n",
       "LSP-nMAU          0.903      0.901   1.08e-02     0.878     0.919\n",
       "LSP-ROG           0.423      0.422   3.19e-02     0.358     0.482\n",
       "RMSE-rmse_sos     1.000      1.000   1.11e-16     1.000     1.000\n",
       "\n",
       "paths \n",
       "              Original  Mean.Boot  Std.Error  perc.025  perc.975\n",
       "DEM -> PFT   -0.104720   -0.10313    0.02552  -0.14991  -0.04861\n",
       "DEM -> LSP    0.336740    0.33968    0.02589   0.28748   0.38630\n",
       "DEM -> RMSE   0.010963    0.01413    0.01093  -0.00261   0.03989\n",
       "PFT -> LSP   -0.201889   -0.20213    0.01917  -0.23879  -0.16655\n",
       "PFT -> RMSE   0.000587    0.00226    0.00901  -0.01193   0.02513\n",
       "LSP -> RMSE  -0.044645   -0.04897    0.02112  -0.09533  -0.00661\n",
       "\n",
       "rsq \n",
       "      Original  Mean.Boot  Std.Error  perc.025  perc.975\n",
       "PFT    0.01097    0.01129    0.00516  0.002363   0.02247\n",
       "LSP    0.16839    0.17146    0.01965  0.133469   0.21058\n",
       "RMSE   0.00177    0.00284    0.00224  0.000384   0.00891\n",
       "\n",
       "total.efs \n",
       "             Original  Mean.Boot  Std.Error  perc.025  perc.975\n",
       "DEM -> PFT   -0.10472   -0.10313     0.0255  -0.14991  -0.04861\n",
       "DEM -> LSP    0.35788    0.36054     0.0266   0.30440   0.40924\n",
       "DEM -> RMSE  -0.00508   -0.00375     0.0137  -0.02510   0.02616\n",
       "PFT -> LSP   -0.20189   -0.20213     0.0192  -0.23879  -0.16655\n",
       "PFT -> RMSE   0.00960    0.01217     0.0118  -0.00767   0.04172\n",
       "LSP -> RMSE  -0.04465   -0.04897     0.0211  -0.09533  -0.00661\n"
      ]
     },
     "metadata": {},
     "output_type": "display_data"
    }
   ],
   "source": [
    "summary(pls_1)"
   ]
  },
  {
   "cell_type": "code",
   "execution_count": 77,
   "metadata": {},
   "outputs": [
    {
     "data": {
      "text/plain": [
       "PARTIAL LEAST SQUARES PATH MODELING (PLS-PM) \n",
       "\n",
       "---------------------------------------------------------- \n",
       "MODEL SPECIFICATION \n",
       "1   Number of Cases      2572 \n",
       "2   Latent Variables     4 \n",
       "3   Manifest Variables   7 \n",
       "4   Scale of Data        Standardized Data \n",
       "5   Non-Metric PLS       FALSE \n",
       "6   Weighting Scheme     factorial \n",
       "7   Tolerance Crit       1e-06 \n",
       "8   Max Num Iters        1000 \n",
       "9   Convergence Iters    5 \n",
       "10  Bootstrapping        TRUE \n",
       "11  Bootstrap samples    1000 \n",
       "\n",
       "---------------------------------------------------------- \n",
       "BLOCKS DEFINITION \n",
       "    Block         Type   Size   Mode\n",
       "1     DEM    Exogenous      1      A\n",
       "2     PFT   Endogenous      1      A\n",
       "3     LSP   Endogenous      4      A\n",
       "4    RMSE   Endogenous      1      A\n",
       "\n",
       "---------------------------------------------------------- \n",
       "BLOCKS UNIDIMENSIONALITY \n",
       "      Mode  MVs  C.alpha  DG.rho  eig.1st  eig.2nd\n",
       "DEM      A    1    1.000   1.000      1.0     0.00\n",
       "PFT      A    1    1.000   1.000      1.0     0.00\n",
       "LSP      A    4    0.681   0.811      2.1     0.87\n",
       "RMSE     A    1    1.000   1.000      1.0     0.00\n",
       "\n",
       "---------------------------------------------------------- \n",
       "OUTER MODEL \n",
       "              weight  loading  communality  redundancy\n",
       "DEM                                                   \n",
       "  1 dem        1.000    1.000       1.0000      0.0000\n",
       "PFT                                                   \n",
       "  2 vegclass   1.000    1.000       1.0000      0.0110\n",
       "LSP                                                   \n",
       "  3 nEOS       0.168    0.513       0.2628      0.0488\n",
       "  3 vSOS       0.661    0.890       0.7915      0.1471\n",
       "  3 nMAU       0.400    0.838       0.7019      0.1304\n",
       "  3 ROG       -0.031    0.298       0.0887      0.0165\n",
       "RMSE                                                  \n",
       "  4 rmse_pos   1.000    1.000       1.0000      0.1973\n",
       "\n",
       "---------------------------------------------------------- \n",
       "CROSSLOADINGS \n",
       "                 DEM      PFT     LSP     RMSE\n",
       "DEM                                           \n",
       "  1 dem        1.000  -0.1047   0.378   0.1451\n",
       "PFT                                           \n",
       "  2 vegclass  -0.105   1.0000  -0.246  -0.2131\n",
       "LSP                                           \n",
       "  3 nEOS       0.188  -0.1158   0.513   0.0116\n",
       "  3 vSOS       0.368  -0.2088   0.890   0.5102\n",
       "  3 nMAU       0.264  -0.2241   0.838   0.2166\n",
       "  3 ROG        0.066  -0.0393   0.298  -0.1253\n",
       "RMSE                                          \n",
       "  4 rmse_pos   0.145  -0.2131   0.430   1.0000\n",
       "\n",
       "---------------------------------------------------------- \n",
       "INNER MODEL \n",
       "$PFT\n",
       "             Estimate   Std. Error     t value   Pr(>|t|)\n",
       "Intercept    3.63e-17       0.0196    1.85e-15   1.00e+00\n",
       "DEM         -1.05e-01       0.0196   -5.34e+00   1.02e-07\n",
       "\n",
       "$LSP\n",
       "             Estimate   Std. Error     t value   Pr(>|t|)\n",
       "Intercept    1.67e-16       0.0178    9.37e-15   1.00e+00\n",
       "DEM          3.56e-01       0.0179    1.99e+01   5.25e-82\n",
       "PFT         -2.09e-01       0.0179   -1.17e+01   1.33e-30\n",
       "\n",
       "$RMSE\n",
       "             Estimate   Std. Error     t value   Pr(>|t|)\n",
       "Intercept    2.82e-18       0.0177    1.60e-16   1.00e+00\n",
       "DEM         -2.18e-02       0.0191   -1.14e+00   2.55e-01\n",
       "PFT         -1.15e-01       0.0182   -6.29e+00   3.73e-10\n",
       "LSP          4.10e-01       0.0196    2.09e+01   9.73e-90\n",
       "\n",
       "---------------------------------------------------------- \n",
       "CORRELATIONS BETWEEN LVs \n",
       "         DEM     PFT     LSP    RMSE\n",
       "DEM    1.000  -0.105   0.378   0.145\n",
       "PFT   -0.105   1.000  -0.246  -0.213\n",
       "LSP    0.378  -0.246   1.000   0.430\n",
       "RMSE   0.145  -0.213   0.430   1.000\n",
       "\n",
       "---------------------------------------------------------- \n",
       "SUMMARY INNER MODEL \n",
       "            Type     R2  Block_Communality  Mean_Redundancy    AVE\n",
       "DEM    Exogenous  0.000              1.000           0.0000  1.000\n",
       "PFT   Endogenous  0.011              1.000           0.0110  1.000\n",
       "LSP   Endogenous  0.186              0.461           0.0857  0.461\n",
       "RMSE  Endogenous  0.197              1.000           0.1973  1.000\n",
       "\n",
       "---------------------------------------------------------- \n",
       "GOODNESS-OF-FIT \n",
       "[1]  0.2461\n",
       "\n",
       "---------------------------------------------------------- \n",
       "TOTAL EFFECTS \n",
       "   relationships   direct  indirect   total\n",
       "1     DEM -> PFT  -0.1047    0.0000  -0.105\n",
       "2     DEM -> LSP   0.3561    0.0218   0.378\n",
       "3    DEM -> RMSE  -0.0218    0.1668   0.145\n",
       "4     PFT -> LSP  -0.2085    0.0000  -0.209\n",
       "5    PFT -> RMSE  -0.1147   -0.0854  -0.200\n",
       "6    LSP -> RMSE   0.4096    0.0000   0.410\n",
       "\n",
       "--------------------------------------------------------- \n",
       "BOOTSTRAP VALIDATION \n",
       "weights \n",
       "               Original  Mean.Boot  Std.Error  perc.025  perc.975\n",
       "DEM-dem           1.000     1.0000   1.16e-16    1.0000    1.0000\n",
       "PFT-vegclass      1.000     1.0000   1.45e-16    1.0000    1.0000\n",
       "LSP-nEOS          0.168     0.1653   3.23e-02    0.0985    0.2231\n",
       "LSP-vSOS          0.661     0.6616   2.95e-02    0.6074    0.7199\n",
       "LSP-nMAU          0.400     0.3988   9.42e-03    0.3802    0.4164\n",
       "LSP-ROG          -0.031    -0.0304   2.51e-02   -0.0811    0.0169\n",
       "RMSE-rmse_pos     1.000     1.0000   1.26e-16    1.0000    1.0000\n",
       "\n",
       "loadings \n",
       "               Original  Mean.Boot  Std.Error  perc.025  perc.975\n",
       "DEM-dem           1.000      1.000   1.11e-16     1.000     1.000\n",
       "PFT-vegclass      1.000      1.000   1.11e-16     1.000     1.000\n",
       "LSP-nEOS          0.513      0.508   4.64e-02     0.417     0.590\n",
       "LSP-vSOS          0.890      0.890   1.49e-02     0.863     0.920\n",
       "LSP-nMAU          0.838      0.836   2.11e-02     0.791     0.872\n",
       "LSP-ROG           0.298      0.298   3.67e-02     0.231     0.367\n",
       "RMSE-rmse_pos     1.000      1.000   1.11e-16     1.000     1.000\n",
       "\n",
       "paths \n",
       "             Original  Mean.Boot  Std.Error  perc.025  perc.975\n",
       "DEM -> PFT    -0.1047    -0.1021     0.0252   -0.1460   -0.0502\n",
       "DEM -> LSP     0.3561     0.3597     0.0267    0.3109    0.4110\n",
       "DEM -> RMSE   -0.0218    -0.0218     0.0209   -0.0628    0.0189\n",
       "PFT -> LSP    -0.2085    -0.2094     0.0194   -0.2489   -0.1712\n",
       "PFT -> RMSE   -0.1147    -0.1140     0.0193   -0.1527   -0.0765\n",
       "LSP -> RMSE    0.4096     0.4102     0.0218    0.3658    0.4532\n",
       "\n",
       "rsq \n",
       "      Original  Mean.Boot  Std.Error  perc.025  perc.975\n",
       "PFT      0.011      0.011    0.00503   0.00252    0.0213\n",
       "LSP      0.186      0.190    0.02102   0.14905    0.2289\n",
       "RMSE     0.197      0.199    0.01615   0.16799    0.2300\n",
       "\n",
       "total.efs \n",
       "             Original  Mean.Boot  Std.Error  perc.025  perc.975\n",
       "DEM -> PFT     -0.105     -0.102     0.0252    -0.146   -0.0502\n",
       "DEM -> LSP      0.378      0.381     0.0271     0.329    0.4326\n",
       "DEM -> RMSE     0.145      0.146     0.0213     0.105    0.1882\n",
       "PFT -> LSP     -0.209     -0.209     0.0194    -0.249   -0.1712\n",
       "PFT -> RMSE    -0.200     -0.200     0.0201    -0.240   -0.1604\n",
       "LSP -> RMSE     0.410      0.410     0.0218     0.366    0.4532\n"
      ]
     },
     "metadata": {},
     "output_type": "display_data"
    }
   ],
   "source": [
    "summary(pls_2)"
   ]
  },
  {
   "cell_type": "code",
   "execution_count": 78,
   "metadata": {},
   "outputs": [
    {
     "data": {
      "text/plain": [
       "PARTIAL LEAST SQUARES PATH MODELING (PLS-PM) \n",
       "\n",
       "---------------------------------------------------------- \n",
       "MODEL SPECIFICATION \n",
       "1   Number of Cases      2572 \n",
       "2   Latent Variables     4 \n",
       "3   Manifest Variables   7 \n",
       "4   Scale of Data        Standardized Data \n",
       "5   Non-Metric PLS       FALSE \n",
       "6   Weighting Scheme     factorial \n",
       "7   Tolerance Crit       1e-06 \n",
       "8   Max Num Iters        1000 \n",
       "9   Convergence Iters    3 \n",
       "10  Bootstrapping        TRUE \n",
       "11  Bootstrap samples    1000 \n",
       "\n",
       "---------------------------------------------------------- \n",
       "BLOCKS DEFINITION \n",
       "    Block         Type   Size   Mode\n",
       "1     DEM    Exogenous      1      A\n",
       "2     PFT   Endogenous      1      A\n",
       "3     LSP   Endogenous      4      A\n",
       "4    RMSE   Endogenous      1      A\n",
       "\n",
       "---------------------------------------------------------- \n",
       "BLOCKS UNIDIMENSIONALITY \n",
       "      Mode  MVs  C.alpha  DG.rho  eig.1st  eig.2nd\n",
       "DEM      A    1    1.000   1.000      1.0     0.00\n",
       "PFT      A    1    1.000   1.000      1.0     0.00\n",
       "LSP      A    4    0.681   0.811      2.1     0.87\n",
       "RMSE     A    1    1.000   1.000      1.0     0.00\n",
       "\n",
       "---------------------------------------------------------- \n",
       "OUTER MODEL \n",
       "              weight  loading  communality  redundancy\n",
       "DEM                                                   \n",
       "  1 dem       1.0000    1.000        1.000     0.00000\n",
       "PFT                                                   \n",
       "  2 vegclass  1.0000    1.000        1.000     0.01097\n",
       "LSP                                                   \n",
       "  3 nEOS      0.2677    0.624        0.390     0.06567\n",
       "  3 vSOS      0.5171    0.796        0.634     0.10680\n",
       "  3 nMAU      0.4225    0.903        0.815     0.13738\n",
       "  3 ROG       0.0943    0.422        0.178     0.02997\n",
       "RMSE                                                  \n",
       "  4 rmse_eos  1.0000    1.000        1.000     0.00365\n",
       "\n",
       "---------------------------------------------------------- \n",
       "CROSSLOADINGS \n",
       "                  DEM      PFT      LSP     RMSE\n",
       "DEM                                             \n",
       "  1 dem        1.0000  -0.1047   0.3579  -0.0457\n",
       "PFT                                             \n",
       "  2 vegclass  -0.1047   1.0000  -0.2373   0.0134\n",
       "LSP                                             \n",
       "  3 nEOS       0.1876  -0.1158   0.6243  -0.0112\n",
       "  3 vSOS       0.3676  -0.2088   0.7961  -0.0536\n",
       "  3 nMAU       0.2638  -0.2241   0.9029  -0.0508\n",
       "  3 ROG        0.0660  -0.0393   0.4218  -0.0111\n",
       "RMSE                                            \n",
       "  4 rmse_eos  -0.0457   0.0134  -0.0532   1.0000\n",
       "\n",
       "---------------------------------------------------------- \n",
       "INNER MODEL \n",
       "$PFT\n",
       "             Estimate   Std. Error     t value   Pr(>|t|)\n",
       "Intercept    5.10e-18       0.0196    2.60e-16   1.00e+00\n",
       "DEM         -1.05e-01       0.0196   -5.34e+00   1.02e-07\n",
       "\n",
       "$LSP\n",
       "             Estimate   Std. Error     t value   Pr(>|t|)\n",
       "Intercept    2.05e-16       0.0180    1.14e-14   1.00e+00\n",
       "DEM          3.37e-01       0.0181    1.86e+01   1.15e-72\n",
       "PFT         -2.02e-01       0.0181   -1.12e+01   2.59e-28\n",
       "\n",
       "$RMSE\n",
       "             Estimate   Std. Error     t value   Pr(>|t|)\n",
       "Intercept    1.06e-17       0.0197    5.37e-16     1.0000\n",
       "DEM         -3.05e-02       0.0211   -1.45e+00     0.1479\n",
       "PFT          2.06e-04       0.0203    1.02e-02     0.9919\n",
       "LSP         -4.22e-02       0.0216   -1.96e+00     0.0506\n",
       "\n",
       "---------------------------------------------------------- \n",
       "CORRELATIONS BETWEEN LVs \n",
       "          DEM      PFT      LSP     RMSE\n",
       "DEM    1.0000  -0.1047   0.3579  -0.0457\n",
       "PFT   -0.1047   1.0000  -0.2373   0.0134\n",
       "LSP    0.3579  -0.2373   1.0000  -0.0532\n",
       "RMSE  -0.0457   0.0134  -0.0532   1.0000\n",
       "\n",
       "---------------------------------------------------------- \n",
       "SUMMARY INNER MODEL \n",
       "            Type       R2  Block_Communality  Mean_Redundancy    AVE\n",
       "DEM    Exogenous  0.00000              1.000          0.00000  1.000\n",
       "PFT   Endogenous  0.01097              1.000          0.01097  1.000\n",
       "LSP   Endogenous  0.16849              0.504          0.08495  0.504\n",
       "RMSE  Endogenous  0.00365              1.000          0.00365  1.000\n",
       "\n",
       "---------------------------------------------------------- \n",
       "GOODNESS-OF-FIT \n",
       "[1]  0.1754\n",
       "\n",
       "---------------------------------------------------------- \n",
       "TOTAL EFFECTS \n",
       "   relationships     direct  indirect     total\n",
       "1     DEM -> PFT  -0.104720   0.00000  -0.10472\n",
       "2     DEM -> LSP   0.336784   0.02116   0.35794\n",
       "3    DEM -> RMSE  -0.030544  -0.01514  -0.04569\n",
       "4     PFT -> LSP  -0.202037   0.00000  -0.20204\n",
       "5    PFT -> RMSE   0.000206   0.00853   0.00874\n",
       "6    LSP -> RMSE  -0.042243   0.00000  -0.04224\n",
       "\n",
       "--------------------------------------------------------- \n",
       "BOOTSTRAP VALIDATION \n",
       "weights \n",
       "               Original  Mean.Boot  Std.Error  perc.025  perc.975\n",
       "DEM-dem          1.0000     1.0000   1.20e-16    1.0000     1.000\n",
       "PFT-vegclass     1.0000     1.0000   1.45e-16    1.0000     1.000\n",
       "LSP-nEOS         0.2677     0.2645   3.16e-02    0.1950     0.322\n",
       "LSP-vSOS         0.5171     0.5192   2.51e-02    0.4741     0.570\n",
       "LSP-nMAU         0.4225     0.4218   1.06e-02    0.4018     0.442\n",
       "LSP-ROG          0.0943     0.0942   2.30e-02    0.0499     0.139\n",
       "RMSE-rmse_eos    1.0000     1.0000   1.32e-16    1.0000     1.000\n",
       "\n",
       "loadings \n",
       "               Original  Mean.Boot  Std.Error  perc.025  perc.975\n",
       "DEM-dem           1.000      1.000   1.11e-16     1.000     1.000\n",
       "PFT-vegclass      1.000      1.000   1.11e-16     1.000     1.000\n",
       "LSP-nEOS          0.624      0.620   3.71e-02     0.537     0.685\n",
       "LSP-vSOS          0.796      0.798   1.65e-02     0.766     0.832\n",
       "LSP-nMAU          0.903      0.901   1.06e-02     0.879     0.919\n",
       "LSP-ROG           0.422      0.421   3.09e-02     0.364     0.483\n",
       "RMSE-rmse_eos     1.000      1.000   1.11e-16     1.000     1.000\n",
       "\n",
       "paths \n",
       "              Original  Mean.Boot  Std.Error  perc.025  perc.975\n",
       "DEM -> PFT   -0.104720   -0.10294    0.02460   -0.1460   -0.0474\n",
       "DEM -> LSP    0.336784    0.34131    0.02676    0.2871    0.3901\n",
       "DEM -> RMSE  -0.030544   -0.03463    0.00964   -0.0558   -0.0199\n",
       "PFT -> LSP   -0.202037   -0.20172    0.02025   -0.2420   -0.1629\n",
       "PFT -> RMSE   0.000206    0.00113    0.00937   -0.0147    0.0224\n",
       "LSP -> RMSE  -0.042243   -0.04452    0.00830   -0.0638   -0.0302\n",
       "\n",
       "rsq \n",
       "      Original  Mean.Boot  Std.Error  perc.025  perc.975\n",
       "PFT    0.01097    0.01120    0.00494   0.00225   0.02131\n",
       "LSP    0.16849    0.17247    0.01982   0.13306   0.21194\n",
       "RMSE   0.00365    0.00456    0.00150   0.00273   0.00853\n",
       "\n",
       "total.efs \n",
       "             Original  Mean.Boot  Std.Error  perc.025  perc.975\n",
       "DEM -> PFT   -0.10472    -0.1029    0.02460  -0.14599   -0.0474\n",
       "DEM -> LSP    0.35794     0.3621    0.02741   0.30568    0.4130\n",
       "DEM -> RMSE  -0.04569    -0.0508    0.01005  -0.07406   -0.0357\n",
       "PFT -> LSP   -0.20204    -0.2017    0.02025  -0.24203   -0.1629\n",
       "PFT -> RMSE   0.00874     0.0101    0.00871  -0.00442    0.0302\n",
       "LSP -> RMSE  -0.04224    -0.0445    0.00830  -0.06379   -0.0302\n"
      ]
     },
     "metadata": {},
     "output_type": "display_data"
    }
   ],
   "source": [
    "summary(pls_3)"
   ]
  },
  {
   "cell_type": "code",
   "execution_count": null,
   "metadata": {},
   "outputs": [],
   "source": []
  }
 ],
 "metadata": {
  "kernelspec": {
   "display_name": "R",
   "language": "R",
   "name": "ir"
  },
  "language_info": {
   "codemirror_mode": "r",
   "file_extension": ".r",
   "mimetype": "text/x-r-source",
   "name": "R",
   "pygments_lexer": "r",
   "version": "3.6.3"
  }
 },
 "nbformat": 4,
 "nbformat_minor": 4
}
